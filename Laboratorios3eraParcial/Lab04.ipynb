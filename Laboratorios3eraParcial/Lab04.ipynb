{
  "cells": [
    {
      "cell_type": "markdown",
      "source": [
        "#Laboratorio 04\n",
        "```\n",
        "Alumna : Milagros yarahuaman rojas\n",
        "Codigo : 171071\n",
        "Asignatura: Mineria de datos\n",
        "Docente: Carlos Fernando Montoya Cubas\n",
        "\n",
        "```"
      ],
      "metadata": {
        "id": "ngw74S9osFsV"
      }
    },
    {
      "cell_type": "markdown",
      "metadata": {
        "id": "tLpgcRM6qGSy"
      },
      "source": [
        "# **Práctica de laboratorio 5b: k-Means para cuantificar atributos**\n",
        "\n",
        "#### Los algoritmos de agrupación de datos, además de utilizarse en el análisis exploratorio para extraer patrones de similitud entre objetos, pueden utilizarse para comprimir el espacio de datos.\n",
        "\n",
        "#### En este notebook usaremos nuestra base de datos Sentiment Movie Reviews para los experimentos. Primero usaremos la técnica word2vec que aprende una transformación de tokens desde una base a un vector de atributos. A continuación, utilizaremos el algoritmo k-Means para comprimir la información sobre estos atributos y proyectar cada objeto en un espacio de atributos de tamaño fijo.\n",
        "\n",
        "#### Las celdas de ejercicio comienzan con el comentario `# EJERCICIO` y los códigos a completar están marcados con los comentarios `<COMPLETO>`.\n",
        "\n",
        "#### ** En este notebook: **\n",
        "#### *Parte 1:* Word2Vec\n",
        "#### *Parte 2:* k-Means para cuantificar atributos\n",
        "#### *Parte 3:* Aplicar un k-NN"
      ]
    },
    {
      "cell_type": "code",
      "source": [
        "\n",
        "\n",
        "!pip install pyspark==3.0.1 py4j==0.10.9\n",
        "\n"
      ],
      "metadata": {
        "colab": {
          "base_uri": "https://localhost:8080/"
        },
        "id": "fX0Htrs8qNC3",
        "outputId": "e9d73392-d332-4923-c029-933ce9d17b0f"
      },
      "execution_count": 1,
      "outputs": [
        {
          "output_type": "stream",
          "name": "stdout",
          "text": [
            "Collecting pyspark==3.0.1\n",
            "  Downloading pyspark-3.0.1.tar.gz (204.2 MB)\n",
            "\u001b[K     |████████████████████████████████| 204.2 MB 30 kB/s \n",
            "\u001b[?25hCollecting py4j==0.10.9\n",
            "  Downloading py4j-0.10.9-py2.py3-none-any.whl (198 kB)\n",
            "\u001b[K     |████████████████████████████████| 198 kB 40.1 MB/s \n",
            "\u001b[?25hBuilding wheels for collected packages: pyspark\n",
            "  Building wheel for pyspark (setup.py) ... \u001b[?25l\u001b[?25hdone\n",
            "  Created wheel for pyspark: filename=pyspark-3.0.1-py2.py3-none-any.whl size=204612243 sha256=8a20d86f4a831aaffbb06962459abd43a3258d74f58dfded81e6fe7869130aa5\n",
            "  Stored in directory: /root/.cache/pip/wheels/5e/34/fa/b37b5cef503fc5148b478b2495043ba61b079120b7ff379f9b\n",
            "Successfully built pyspark\n",
            "Installing collected packages: py4j, pyspark\n",
            "Successfully installed py4j-0.10.9 pyspark-3.0.1\n"
          ]
        }
      ]
    },
    {
      "cell_type": "code",
      "source": [
        "pip install findspark"
      ],
      "metadata": {
        "colab": {
          "base_uri": "https://localhost:8080/"
        },
        "id": "FocQ5exVqfi1",
        "outputId": "4b81a850-7894-412f-e971-805a906d2078"
      },
      "execution_count": 3,
      "outputs": [
        {
          "output_type": "stream",
          "name": "stdout",
          "text": [
            "Collecting findspark\n",
            "  Downloading findspark-2.0.0-py2.py3-none-any.whl (4.4 kB)\n",
            "Installing collected packages: findspark\n",
            "Successfully installed findspark-2.0.0\n"
          ]
        }
      ]
    },
    {
      "cell_type": "code",
      "source": [
        "import findspark\n",
        "findspark.init()\n",
        "\n",
        "import pyspark # only run after findspark.init()\n",
        "from pyspark.sql import SparkSession\n",
        "from pyspark import SparkContext\n",
        "spark = SparkSession.builder.getOrCreate()\n",
        "sc = SparkContext.getOrCreate()"
      ],
      "metadata": {
        "id": "OHNkI-L2qIyf"
      },
      "execution_count": 4,
      "outputs": []
    },
    {
      "cell_type": "markdown",
      "metadata": {
        "id": "3VGWitoIqGS5"
      },
      "source": [
        "### **Parte 0: Preliminares**\n",
        "\n",
        "#### Para este notebook usaremos la base de datos de reseñas de películas que se usará para el segundo proyecto.\n",
        "\n",
        "#### La base de datos tiene los campos separados por '\\t' y el siguiente formato:\n",
        "    `\"id de frase\",\"id de oración\",\"Frase\",\"Sentimiento\"`\n",
        "\n",
        "#### Para esta práctica de laboratorio solo usaremos el campo \"Frase\"."
      ]
    },
    {
      "cell_type": "code",
      "execution_count": 19,
      "metadata": {
        "collapsed": true,
        "id": "p73aXj0hqGS6",
        "colab": {
          "base_uri": "https://localhost:8080/"
        },
        "outputId": "ec13a32a-744b-466c-da41-7a8cf561ec84"
      },
      "outputs": [
        {
          "output_type": "stream",
          "name": "stdout",
          "text": [
            "Read 8528 lines\n",
            "Sample line: (110056, 'Each of these stories has the potential for Touched by an Angel simplicity and sappiness , but Thirteen Conversations About One Thing , for all its generosity and optimism , never resorts to easy feel-good sentiments .')\n"
          ]
        }
      ],
      "source": [
        "import os\n",
        "import numpy as np\n",
        "\n",
        "def parseRDD(point):\n",
        "    \"\"\" Parser for the current dataset. It receives a data point and return\n",
        "        a sentence (third field).\n",
        "    Args:\n",
        "        point (str): input data point\n",
        "    Returns:\n",
        "        str: a string\n",
        "    \"\"\"    \n",
        "    data = point.split('\\t')\n",
        "    return (int(data[0]),data[2])\n",
        "\n",
        "def notempty(point):\n",
        "    \"\"\" Returns whether the point string is not empty\n",
        "    Args:\n",
        "        point (str): input string\n",
        "    Returns:\n",
        "        bool: True if it is not empty\n",
        "    \"\"\"   \n",
        "    return len(point[1])>0\n",
        "\n",
        "filename = os.path.join(\"Data\",\"MovieReviews2.tsv\")\n",
        "rawRDD = sc.textFile(filename,100)\n",
        "header = rawRDD.take(1)[0]\n",
        "\n",
        "dataRDD = (rawRDD\n",
        "           #.sample(False, 0.1, seed=42)\n",
        "           .filter(lambda x: x!=header)\n",
        "           .map(parseRDD)\n",
        "           .filter(notempty)\n",
        "           #.sample( False, 0.1, 42 )\n",
        "           )\n",
        "\n",
        "print ('Read {} lines'.format(dataRDD.count()))\n",
        "print ('Sample line: {}'.format(dataRDD.takeSample(False, 1)[0]))"
      ]
    },
    {
      "cell_type": "code",
      "source": [
        "print(header.split())"
      ],
      "metadata": {
        "id": "uhxis2ZFQauH",
        "outputId": "7dd8e464-35f5-4b4f-b92d-8a94c86db73f",
        "colab": {
          "base_uri": "https://localhost:8080/"
        }
      },
      "execution_count": 20,
      "outputs": [
        {
          "output_type": "stream",
          "name": "stdout",
          "text": [
            "['1', '1', 'A', 'series', 'of', 'escapades', 'demonstrating', 'the', 'adage', 'that', 'what', 'is', 'good', 'for', 'the', 'goose', 'is', 'also', 'good', 'for', 'the', 'gander', ',', 'some', 'of', 'which', 'occasionally', 'amuses', 'but', 'none', 'of', 'which', 'amounts', 'to', 'much', 'of', 'a', 'story', '.', '1']\n"
          ]
        }
      ]
    },
    {
      "cell_type": "markdown",
      "metadata": {
        "id": "Gx4cQJelqGS-"
      },
      "source": [
        "### **Parte 1: Word2Vec**\n",
        "\n",
        "#### La técnica [word2vec][word2vec] aprende a través de una red neuronal semántica una representación vectorial de cada token en un corpus de tal manera que las palabras semánticamente similares son similares en la representación vectorial.\n",
        "\n",
        "#### PySpark contiene una implementación de esta técnica, para aplicarla basta con pasar un RDD en el que cada objeto representa un documento y cada documento está representado por una lista de tokens en el orden en que aparecen originalmente en el corpus. Después del proceso de entrenamiento, podemos transformar un token usando el método [`transform`](https://spark.apache.org/docs/latest/ml-features) para convertir cada token en una representación vectorial.\n",
        "\n",
        "#### En este punto, cada objeto en nuestra base estará representado por una matriz de tamaño variable.\n",
        "\n",
        "[word2vec]: https://code.google.com/p/word2vec/"
      ]
    },
    {
      "cell_type": "markdown",
      "metadata": {
        "id": "a1tIIrN4qGTA"
      },
      "source": [
        "### **(1a) Generación de RDD a partir de tokens**\n",
        "\n",
        "#### Use la función de tokenización `tokenize` para generar un RDD `wordsRDD` que contenga listas de tokens de nuestra base de datos original."
      ]
    },
    {
      "cell_type": "code",
      "source": [
        "import re\n",
        "split_regex = r'\\W+'\n",
        "stopfile = os.path.join(\"Data\",\"stopwords.txt\")\n",
        "stopwords = set(sc.textFile(stopfile).collect())\n",
        "\n",
        "def tokenize(string):\n",
        "    \"\"\" An implementation of input string tokenization that excludes stopwords\n",
        "    Args:\n",
        "        string (str): input string\n",
        "    Returns:\n",
        "        list: a list of tokens without stopwords\n",
        "    \"\"\"\n",
        "    \n",
        "    #string = re.sub('[^a-zA-Z]', ' ', string)\n",
        "    string = string.lower()\n",
        "    string = re.split(split_regex, string)\n",
        "    sinStop=[i for i in string if i not in stopwords and len(i)>0 ]\n",
        "    return (sinStop)\n"
      ],
      "metadata": {
        "id": "zdlqHAwJJkWu"
      },
      "execution_count": 40,
      "outputs": []
    },
    {
      "cell_type": "code",
      "execution_count": 41,
      "metadata": {
        "collapsed": true,
        "id": "UgeAT-QdqGTB",
        "colab": {
          "base_uri": "https://localhost:8080/"
        },
        "outputId": "4eb09d42-5b97-492d-fc21-37d077a0b4c9"
      },
      "outputs": [
        {
          "output_type": "stream",
          "name": "stdout",
          "text": [
            "['quiet', 'introspective', 'entertaining', 'independent', 'worth', 'seeking']\n"
          ]
        }
      ],
      "source": [
        "\n",
        "\n",
        "\n",
        "\n",
        "wordsRDD = dataRDD.map(lambda x: tokenize(x[1]))\n",
        "\n",
        "print (wordsRDD.take(1)[0])"
      ]
    },
    {
      "cell_type": "code",
      "execution_count": 42,
      "metadata": {
        "collapsed": true,
        "id": "q7RTXkRqqGTC"
      },
      "outputs": [],
      "source": [
        "# TEST Tokenize a String (1a)\n",
        "assert wordsRDD.take(1)[0]==[u'quiet', u'introspective', u'entertaining', u'independent', u'worth', u'seeking'], 'lista incorreta!'"
      ]
    },
    {
      "cell_type": "markdown",
      "metadata": {
        "id": "dYlW-lY9qGTD"
      },
      "source": [
        "### **(1b) Aplicando la transformación word2vec**\n",
        "\n",
        "#### Cree una plantilla word2vec aplicando el método `fit` al RDD creado en el ejercicio anterior.\n",
        "\n",
        "#### Para aplicar este método debes hacer un pipeline de métodos, primero ejecutando `Word2Vec()`, luego aplicando el método `setVectorSize()` con el tamaño que queremos para nuestro vector (usa el tamaño 5), seguido de ` setSeed()` para la semilla aleatoria, en caso de experimentos controlados (usaremos 42) y finalmente `fit()` con nuestro `wordsRDD` como parámetro."
      ]
    },
    {
      "cell_type": "code",
      "execution_count": 45,
      "metadata": {
        "collapsed": true,
        "id": "xplddfggqGTE",
        "colab": {
          "base_uri": "https://localhost:8080/"
        },
        "outputId": "ee8f5a9a-559b-4856-fa01-65fc83f4f48a"
      },
      "outputs": [
        {
          "output_type": "stream",
          "name": "stdout",
          "text": [
            "[-0.13553844392299652,0.03944551944732666,0.03806566819548607,0.08553558588027954,-0.02614559605717659]\n",
            "[('cgi', 0.989105761051178), ('something', 0.9889155626296997)]\n"
          ]
        }
      ],
      "source": [
        "# EXERCICIO\n",
        "from pyspark.mllib.feature import Word2Vec\n",
        "model = (Word2Vec()\n",
        "         .setVectorSize(5)\n",
        "         .setSeed(42)\n",
        "         .fit(wordsRDD))\n",
        "\n",
        " \n",
        "print (model.transform(u'entertaining'))\n",
        "print (list(model.findSynonyms(u'entertaining', 2)))"
      ]
    },
    {
      "cell_type": "code",
      "execution_count": 47,
      "metadata": {
        "collapsed": true,
        "id": "3-7nhlKoqGTG"
      },
      "outputs": [],
      "source": [
        "dist = np.abs(model.transform(u'entertaining')-np.array([-0.1355384439229965,0.03944551944732666,0.03806566819548607,0.08553558588027954,-0.02614559605717659])).mean()\n",
        "assert dist<1e-6, 'valores incorretos'\n",
        "assert list(model.findSynonyms(u'entertaining', 1))[0][0] == 'cgi', 'valores incorretos'"
      ]
    },
    {
      "cell_type": "markdown",
      "metadata": {
        "id": "VNLEPx4rqGTI"
      },
      "source": [
        "### **(1c) Generando un RDD de arreglos**\n",
        "\n",
        "#### Como primer paso, necesitamos generar un diccionario donde la clave son las palabras y el valor es el vector que representa esa palabra.\n",
        "\n",
        "#### Para esto primero generaremos una lista `uniqueWords` que contiene las palabras únicas de las palabras RDD, eliminando aquellas que aparecen menos de 5 veces [$^1$](#1). A continuación, crearemos un diccionario `w2v` donde la clave es un token y el valor es un `np.array` del arreglo transformado de ese token[$^2$](#2).\n",
        "\n",
        "#### Finalmente, creemos un RDD llamado `vectorsRDD` donde cada registro está representado por una matriz donde cada fila representa una palabra transformada."
      ]
    },
    {
      "cell_type": "code",
      "source": [
        "print(wordsRDD.collect())"
      ],
      "metadata": {
        "id": "fnL4FmoCVYT1"
      },
      "execution_count": null,
      "outputs": []
    },
    {
      "cell_type": "code",
      "execution_count": 48,
      "metadata": {
        "collapsed": true,
        "id": "rU6TaezkqGTL",
        "colab": {
          "base_uri": "https://localhost:8080/"
        },
        "outputId": "44933bec-8a84-4f69-90ed-a3e6796824ea"
      },
      "outputs": [
        {
          "output_type": "stream",
          "name": "stdout",
          "text": [
            "3388 tokens únicos\n",
            "['leave', 'sometimes', 'everything', 'interested', 'eventually', 'masterful', 'catholic', 'quality', 'feminist', '10', 'solondz', 'horrible', 'biting', 'matters', 'sea', 'king', 'jonah', 'standards', 'step', 'unnecessary', 'twisted', 'lovely', 'none', 'messages', 'immediate', 'vision', 'heavily', 'trashy', 'tambor', 'wanting', 'sheridan', 'surely', 'tends', 'invention', 'theaters', 'relevant', 'm', 'jones', 'silly', 'history', 'generic', 'sexy', 'prove', 'cho', 'wears', 'audience', 'magic', 'allows', 'goldmember', 'sustain', 'gone', 'today', 'van', 'stunts', 'japanese', 'unlikable', 'pleasant', 'average', 'scale', 'revelation', 'jerry', 'leads', 'jagger', 'earnestness', 'later', 'humorless', 'bang', 'media', 'pedigree', 'dark', 'unexpected', 'version', 'room', 'society', 'although', 'created', 'form', 'points', 'journey', 'conclusion', 'unfolds', 'witness', 'extent', 'sandler', 'sloppy', 'expectation', 'strange', 'father', 'grand', 'handled', 'maintain', 'sports', 'duvall', 'ya', 'hybrid', 'third', 'rowdy', 'versus', 'construct', 'ponderous', 'visit', 'pacino', 'illustrates', 'irresistible', 'swim', 'darkly', 'kung', 'deep', 'o', 'funny', 'wondering', 'original', 'also', 'concept', 'radical', 'since', 'aware', 'violence', 'incompetent', 'episode', 'found', 'dedication', 'turning', 'top', 'channel', 'soderbergh', 'everyday', 'straight', 'energy', 'hopkins', 'inner', 'warmth', 'surprise', 'sympathy', 'chicago', 'familiarity', 'sisterhood', 'sandra', 'fierce', 'serving', 'idiosyncratic', 'rescue', 'twice', 'exploit', 'devastating', 'direct', 'cgi', 'trouble', 'watching', 'predecessors', 'details', '60s', 'artist', 'turn', 'creepy', 'predictability', 'loss', 'got', 'provide', 'excellent', 'manufactured', 'wry', 'tell', 'r', 'machine', 'talents', 'herzog', 'effective', 'imagery', 'sweetness', 'replaced', 'exploitation', 'measure', 'gel', 'morally', 'taut', 'boat', 'nights', 'sincerity', 'landscape', 'hypnotic', 'seeks', 'obligatory', 'hype', 'becomes', 'gag', 're', 'experience', 'lets', 'clumsy', 'breaking', 'affair', 'respect', 'blair', 'witch', 'roots', 'drop', 'nair', 'cheese', 'dance', 'overlong', 'gangs', 'sisters', 'encouraging', 'changes', 'elegantly', 'frequently', 'redemption', 'ultimately', 'pacing', 'home', 'ride', 'steven', 'power', 'cause', 'creating', 'partly', 'questions', 'possible', 'ode', 'maybe', 'expression', 'jaglom', 'alabama', 'definitely', 'bride', 'sly', 'equal', 'genuine', 'loose', 'lousy', 'deftly', 'naturalistic', 'image', 'certain', 'notch', 'j', 'hallmark', 'primarily', 'daytime', 'jar', 'marvel', 'friendly', 'suit', 'youth', 'going', 'lives', 'drive', 'pool', 'compelling', 'another', 'stylized', 'element', 'running', 'dog', 'children', 'smartly', 'adds', 'present', 'momentum', 'silent', 'level', 'ordinary', 'combines', 'hope', 'straightforward', 'tedious', 'stuart', 'dealing', 'behind', 'conflict', 'subculture', 'lifeless', 'helps', 'industry', 'manage', 'exceptional', 'system', 'laid', 'belly', 'capturing', 'condition', 'shame', 'rolling', 'shrill', 'objective', 'thousands', 'ingenious', 'epic', 'modest', 'kong', 'visual', 'ever', 'tension', 'thought', 'school', 'bourne', 'book', 'must', 'existence', 'walked', 'community', 'fill', 'falls', 'lost', 'current', 'identity', 'bits', 'players', 'slack', 'curiously', 'known', 'ironically', 'ground', 'delivery', 'floor', 'album', 'pathetic', 'mannered', 'belt', 'vein', 'pathology', 'snow', 'dialogue', 'hilarity', 'hong', 'party', 'heroes', 'works', 'coming', 'screenplay', 'gets', 'force', 'keep', 'intended', 'rich', 'comedies', 'broken', 'hand', 'trademark', 'dramatically', 'part', 'build', 'loneliness', 'enthusiastic', 'talk', 'neo', 'chemistry', 'incident', 'eager', 'sleeve', 'went', 'dirty', 'glossy', 'relies', 'contrivances', 'stays', 'severe', 'entry', 'outcome', 'nickleby', 'kiddie', 'bone', 'entertaining', 'high', 'mr', 'viewing', 'fails', 'never', 'twists', 'parent', 'charms', 'knowledge', 'spirits', 'following', 'damage', 'situations', 'named', 'entire', 'folks', 'nobody', 'authority', 'fancy', 'moody', 'observation', 'singing', 'decided', 'minded', 'sex', 'screenwriters', 'recommended', 'u', 'alone', 'carries', 'light', 'disappointed', 'rhythms', 'gags', 'south', 'laughter', 'pulls', 'newcomer', 'tongue', 'leaden', 'anderson', 'predictably', 'ultimate', 'holocaust', 'murky', 'supporting', 'lame', 'sorry', 'drink', 'knew', 'flow', 'shocking', 'thrill', 'harris', 'balanced', 'burger', 'palma', 'harder', 'china', 'dogs', 'martial', 'throw', 'smart', 'go', 'beach', 'happen', 'drawing', 'already', 'grade', 'cleverness', 'passion', 'stylistic', 'field', 'retread', 'attempt', 'aging', 'cox', 'exception', 'static', 'notes', 'sensitive', 'vague', 'baffling', 'latter', 'signs', 'wickedly', 'clooney', 'dressed', 'huppert', 'mike', 'weeks', 'show', 'amusing', 'engaging', 'era', 'forth', 'released', 'without', 'sit', 'plotting', 'nicely', 'eyed', 'slick', 'variety', 'valuable', 'bite', 'bio', 'spite', 'domestic', 'season', 'mild', 'controversy', 'delightfully', 'control', 'bother', 'exploration', 'ludicrous', 'lifetime', 'whale', 'outside', 'menace', 'targeted', 'path', 'world', 'slice', 'paid', 'arty', 'fighting', 'realism', 'career', 'week', 'ridden', 'destination', 'seeing', 'waydowntown', 'fight', 'fat', 'gripping', 'nightmare', 'shaped', 'haynes', 'glory', 'carefully', 'stilted', 'desperation', 'rewards', 'intense', 'biggest', 'h', 'dud', 'deserve', 'specific', 'unconvincing', 'topic', 'parker', 'members', 'sayles', 'pie', 'character', 'takes', 'see', 'gay', 'delicate', 'pleasure', 'veers', 'rises', 'passes', 'extremely', 'boom', 'shooting', 'stylish', 'peculiar', 'answer', 'ballot', 'trek', 'century', 'moved', 'sand', 'unable', 'ford', 'choose', 'farce', 'warning', 'enormously', 'tremendous', 'conspiracy', 'start', 'serve', 'totally', 'heartfelt', 'technical', 'stirring', 'sequence', 'result', 'convinced', 'enjoyable', 'using', 'master', 'payne', 'women', 'amount', 'provoking', 'spectacle', 'stunning', 'gun', 'gift', 'cuts', 'sweeping', 'forgettable', 'bruce', 'reveal', 'cinematography', 'heartbreaking', 'mushy', 'bullets', 'cry', 'sincere', 'arrives', 'cliches', 'life', 'refreshing', 'great', 'fully', 'death', 'uplifting', 'clarity', 'heaven', 'hilarious', 'mtv', 'contemporary', 'events', 'star', 'originality', 'subversive', 'comedian', 'kaufman', 'fits', 'spin', 'mayhem', 'hint', 'stands', 'esther', 'gosling', 'ozpetek', 'angels', 'lucy', 'quiet', 'combination', 'dream', 'sweet', 'd', 'means', 'ice', 'material', 'spooky', 'films', 'know', 'absorbing', 'actress', 'end', 'shoulders', 'hero', 'cinema', 'essentially', 'mildly', 'terribly', 'ill', 'virtually', 'leaves', 'lightweight', 'took', 'japan', 'gentle', 'allegory', 'positive', 'installment', 'rate', 'generation', 'deadly', 'nicholson', 'speak', 'performed', 'promises', 'chilling', 'books', 'cletis', 'skins', 'capacity', 'yiddish', 'setting', 'constructed', 'computer', 'whatever', 'reno', 'hack', 'examination', 'view', 'important', 'game', 'amateurish', 'moving', 'course', 'together', 'remember', 'blade', 'given', 'inspiring', 'spirited', 'watchable', 'startling', 'pinocchio', 'shockingly', 'overcome', 'scream', 'hit', 'upper', 'skill', 'de', 'deuces', 'enigma', 'chaotic', 'choices', 'cover', 'sinks', 'inspire', 'feelings', 'proves', 'beyond', 'right', 'making', 'two', 'quick', 'mary', 'theme', 'affecting', 'weirdly', 'pulp', 'thrillers', 'putting', 'mind', 'gross', 'process', 'put', 'morality', 'husband', 'shallow', 'particular', 'celebration', 'grandeur', 'feardotcom', '50', 'saccharine', 'meandering', 'iranian', 'bittersweet', 'lesser', 'genial', 'send', 'central', 'thrills', 'inconsistent', 'surprises', 'mistake', 'getting', 'scott', 'consequences', 'crazy', 'excels', 'mess', 'wit', 'disney', 'delivers', 'filmmakers', 'else', 'growing', 'reign', 'standard', 'chris', 'stock', 'toilet', 'hip', 'trick', 'follow', 'rollerball', 'rice', 'evening', 'places', 'dana', 'amy', 'witted', 'ridiculous', 'jacquot', 'justice', 'bill', 'wholly', 'spell', 'represents', 'return', 'portrays', 'park', 'niche', 'title', 'forces', 'new', 'minutes', 'call', 'way', 'shakespeare', 'designed', 'things', 'midnight', 'curiosity', 'captures', 'riveting', 'candy', 'adolescent', 'whose', 'attract', 'act', 'assassin', 'families', 'simple', 'boring', 'hair', 'change', 'pass', 'curious', 'dragon', 'lived', 'pitch', 'runner', 'hook', 'xxx', 'henry', 'dreams', 'followed', 'gives', 'lrb', 'clever', 'get', 'constant', 'neat', 'offensive', 'education', 'amazingly', 'dogtown', 'overwhelming', 'wide', 'held', 'throwing', 'video', 'club', 'called', 'friend', 'biopic', 'simultaneously', 'mcgrath', '101', 'childhood', 'modern', 'gently', 'victim', 'kid', 'frame', 'punch', 'chew', 'value', 'characterizations', 'hours', 'situation', 'attal', 'serviceable', 'strictly', 'mouth', 'question', 'melancholy', 'villain', 'treat', 'shapeless', 'check', 'whimsy', 'eyre', 'photography', 'p', 'match', 'exploring', 'inspired', 'makes', 'early', 'relationship', 'subjects', 'written', 'number', 'equivalent', 'whenever', 'winds', 'powerful', 'key', 'hopeful', 'brief', 'values', 'preachy', 'resolutely', 'credit', 'older', 'require', 'calculated', 'solaris', 'frightening', 'missing', 'creation', 'learn', 'lampoon', 'blow', 'consciously', 'adults', 'street', 'food', 'jolie', 'office', 'likable', 'theatrical', 'proportions', 'house', 'opportunities', 'romp', 'teen', 'territory', 'greatest', 'bears', 'fake', 'conventional', 'joke', 'roman', 'miller', 'writing', 'onscreen', 'escape', 'engrossing', 'parade', 'attitude', 'unusual', 'collection', 'marriage', 'openness', 'exciting', 'crossroads', 'chiller', 'speaks', 'benigni', 'development', 'benefit', 'joy', 'times', 'made', 'deeply', 'fi', 'fears', 'attraction', 'fascinating', 'find', 'crass', 'madonna', 'brilliantly', 'breezy', 'witty', 'franchise', 'half', 'hey', 'dose', 'inside', 'madness', 'warm', 'celluloid', 'holm', 'wait', 'includes', 'smile', 'bartleby', 'scenery', 'stiff', 'sobering', 'antwone', 'numbingly', 'banal', 'foul', 'earnest', 'best', 'give', 'narrative', 'wonderful', 'unimaginative', 'universal', 'dull', 'fairy', 'anti', 'meets', 'business', 'humour', 'philosophy', 'ca', 'gorgeously', 'hot', 'raw', 'scene', 'schaeffer', 'motivated', 'worse', 'impressive', 'feat', 'cutting', 'peek', 'schneider', 'sade', 'nonsense', 'quitting', 'name', 'burns', 'hard', 'crisis', 'gritty', 'many', 'shows', 'company', 'smug', 'ending', 'nature', 'addition', 'favor', 'doubt', 'fellow', 'seat', 'surface', 'ambitious', 'hill', 'fanciful', 'mental', 'tech', 'freedom', 'masterfully', 'cheer', 'stay', 'pastiche', 'supposed', 'patience', 'magnificent', 'unintentionally', 'bullock', 'sting', 'renner', 'moore', 'critics', 'harvard', 'comedy', 'year', 'run', 'feature', 'irish', 'lie', 'line', 'amid', 'losing', 'near', 'instead', 'describe', 'surprising', 'direction', 'responsible', 'bring', 'allow', 'lifestyle', 'worst', 'suffering', 'said', 'test', 'heartwarming', 'viewers', 'answers', 'monsters', 'consistent', 'talking', 'dickens', 'boasts', 'worked', 'complicated', 'accessible', 'loving', 'grows', 'lane', 'tight', 'sorority', 'soon', 'five', 'surprisingly', 'amazing', 'song', 'kids', 'audiences', 'complex', 'joyous', 'barbershop', 'clause', 'vintage', 'detailed', 'classic', 'anachronistic', 'male', 'banter', 'hugh', 'unfunny', 'bore', 'measured', 'sitcom', 'labute', 'pure', 'eat', 'island', 'far', 'offering', 'martin', 'perfect', 'fairly', 'slapstick', 'scattered', 'save', 'bland', '2002', 'fest', 'cynical', 'moviegoers', 'incoherent', 'twenty', 'delight', 'delights', 'resonance', 'days', 'novel', 'figures', 'excitement', 'lips', 'produce', 'dancing', 'eastwood', 'insightful', 'cleverly', 'catching', 'alert', 'ghost', 'disappointment', 'portrayal', 'rental', 'utter', 'wasted', 'wildly', 'spots', 'kill', 'managed', 'holds', 'equilibrium', 'haneke', 'narratively', 'appropriate', 'attempts', 'puts', 'seem', 'succeed', 'beautiful', 'delicious', 'pieces', 'tired', 'depiction', 'incomprehensible', 'handsome', 'mediocrity', 'poem', 'sadly', 'caper', 'tear', 'suspenseful', 'swallow', 'dry', 'gangster', 'notice', 'laughed', 'brought', 'pretensions', 'documentaries', 'remembered', 'slightly', 'piano', 'reminds', 'italian', 'hands', 'suited', 'section', 'wish', 'daily', 'rise', 'wife', 'brutally', 'nicholas', 'christian', 'complete', 'rough', 'specifically', 'outrageous', 'avary', 'carmen', 'judd', 'damned', 'perhaps', 'roll', 'comic', 'ask', 'sad', 'impression', 've', 'rent', 'public', 'appear', 'sensual', 'price', 'forced', 'annoying', 'commentary', 'deadpan', 'frustration', 'doses', 'grey', 'problematic', 'understands', 'hide', 'appalling', 'explores', 'pre', 'opera', 'satire', 'honestly', 'back', 'problem', 'second', 'report', 'ugly', 'land', 'sudden', 'editing', 'taste', 'lines', 'humor', 'superior', 'hardly', 'flicks', 'rock', 'former', 'fact', 'ii', 'alienation', 'release', 'town', 'crimes', 'extravaganza', 'interview', 'remarkable', 'hearts', 'combined', 'grief', 'ms', 'romance', 'alive', 'rude', 'refusal', 'colorful', 'matinee', 'like', 'say', 'generated', 'sophisticated', 'let', 'safe', 'money', 'flat', 'commercial', 'improbable', 'screenwriting', 'balance', 'conservative', 'visuals', 'continues', 'soldiers', 'delivering', 'satirical', 'l', 'unabashedly', 'tour', 'time', 'actors', 'inoffensive', 'considerable', 'date', 'couple', 'largely', 'emotion', 'moral', 'whole', 'martha', 'sort', 'reggio', 'halfway', 'special', 'popcorn', 'brain', 'create', 'foster', 'seeming', 'bow', 'lopez', 'fare', 'credible', 'songs', 'impostor', 'com', 'richard', 'semi', 'richly', 'timing', 'text', 'saturday', 'opaque', 'soap', 'success', 'teeth', 'guess', 'rare', 'brings', 'enthusiasm', 'huge', 'night', 'woo', 'photographed', 'screenwriter', 'cold', 'funniest', 'quietly', 'started', 'santa', 'uncanny', 'delicately', 'tiny', 'bogdanovich', 'uses', 'due', 'aged', 'capture', 'edgy', 'devoid', 'elegant', 'clockstoppers', 'basis', 'expectations', 'junk', 'silliness', 'anger', 'day', 'better', 'woman', 'inept', 'screen', 'incoherence', 'storytelling', 'cinematic', 'fun', 'virtues', 'images', 'exist', 'message', 'stories', 'happy', 'sheer', 'bettany', 'cultural', '90', 'barry', 'undone', 'younger', 'bard', 'theory', 'acceptable', 'sweetly', 'sorvino', 'frida', 'clash', 'necessary', 'pace', 'korea', 'trite', 'scorsese', 'problems', 'exploitative', 'succumbs', 'driven', 'conversations', 'would', 'something', 'latest', 'violent', 'results', 'tsai', 'green', 'expense', 'memories', 'overall', 'traveler', 'away', 'especially', 'redundant', 'family', 'flamboyant', 'touched', 'frank', 'mechanical', 'exactly', 'free', 'tom', 'smith', 'earth', 'format', 'category', 'opportunity', 'raised', 'behold', 'repetitive', 'nelson', 'looked', 'perspective', 'theater', 'lacks', 'simply', 'parents', 'double', 'blank', 'possibly', 'random', 'rarely', 'treatment', 'enigmatic', 'features', 'climactic', 'structured', 'busy', 'pleaser', 'pseudo', 'ahead', 'oddly', 'complexity', 'saga', 'divine', '80', 'incisive', 'wendigo', 'credibility', 'undeniable', 'elusive', 'weirdness', 'kissinger', 'transforms', 'provocative', 'major', 'quirky', 'sketch', 'viewer', 'state', 'soulful', 'boys', 'animation', 'touch', 'professional', 'convincing', 'saying', 'dismissed', 'tasty', 'honesty', 'obnoxious', 'ear', 'friday', 'shining', 'defies', 'heard', 'haunting', 'dong', 'layers', 'enterprise', 'propaganda', 'realized', 'stone', 'del', 'thumbs', 'tried', 'clumsily', 'precisely', 'playing', 'proud', 'changing', 'russian', 'legged', 'fights', 'humorous', 'difficult', 'videos', 'suck', 'easier', 'piece', 'body', 'politically', 'previous', 'easy', 'enjoyed', 'charismatic', 'spectacular', 'lovers', 'substitute', 'abandon', 'profound', 'shoot', 'plympton', 'western', 'dish', 'k', 'brown', 'advice', 'breath', 'absurd', 'paint', 'merchant', 'positively', 'political', 'romantic', 'finish', 'offers', 'interesting', 'mark', 'common', 'senses', 'interest', 'passionate', 'cast', 'fantasies', 'porn', 'cute', 'color', 'sign', 'brand', 'overly', 'needs', 'hanks', 'zone', 'niro', 'rose', 'comfortable', 'gradually', 'urgency', 'enjoyably', 'killed', 'fence', 'nasty', 'em', 'lackluster', 'shrewd', 'charmless', 'charm', 'role', 'jokes', 'lot', 'affection', 'cost', 'saw', 'insights', 'eccentric', 'play', 'endeavor', 'ah', 'quest', 'highest', 'black', 'spears', 'goofy', 'motions', 'formula', 'secretary', 'lump', 'anthony', 'purpose', 'promising', 'wilder', 'desire', 'disturbing', 'empire', 'fluid', 'table', 'word', 'finest', 'adams', 'sink', 'aimless', 'rehash', 'trappings', 'window', 'clue', 'try', 'despite', 'exercise', 'games', 'inventive', 'co', 'music', 'mixed', 'live', 'hartley', 'mediocre', 'three', 'read', 'miyazaki', 'laugh', 'uncomfortable', 'increasingly', 'working', 'paul', 'emerges', 'presentation', 'adam', 'pity', 'messy', 'inhabit', 'group', 'belongs', 'move', 'mann', '19', 'vibrant', 'decidedly', 'characterization', 'grim', 'happily', 'student', 'breathtaking', 'morvern', 'could', 'gorgeous', 'study', 'finally', 'otherwise', 'empty', 'often', 'unpredictable', 'demanding', 'girl', 'expected', 'leigh', 'practically', 'beast', 'desperately', 'producer', 'performers', 'skip', 'merely', 'travel', 'serial', 'toback', 'fashion', 'reasons', 'soft', 'muted', 'fans', 'escapism', 'vincent', 'bloody', 'summer', 'toward', 'emotions', 'guessing', 'evokes', 'wear', 'turns', 'soulless', 'costume', 'anne', 'levels', 'wonder', 'period', 'dimensional', 'job', 'demographic', 'faith', 'soundtrack', 'numbers', 'paxton', 'birot', 'becoming', 'kapur', 'chances', 'pale', 'coppola', 'cultures', 'substantial', 'shamelessly', 'favorite', 'importance', 'welcome', 'bad', 'thinking', 'man', 'wrong', 'parody', 'vulgar', 'uninspired', 'camp', 'old', 'sharp', 'need', 'real', 'wo', 'debut', 'spark', 'arnold', 'obvious', 'subtlety', 'telegraphed', 'either', 'somewhere', 'fail', 'begin', 'w', 'meaningful', 'twist', 'guns', 'studio', 'happens', 'exquisite', 'giving', 'wall', 'matthew', 'shanghai', 'surrounding', 'attention', 'observant', 'lacking', 'pretends', 'clean', 'actor', 'thriller', 'look', 'sexual', 'unfortunately', 'familial', 'dawson', 'mindless', 'suspense', 'freshness', 'college', 'relentlessly', 'innocent', 'four', 'gory', 'premise', 'silence', 'george', 'trip', 'aliens', 'extreme', '70s', 'irony', 'deft', 'sluggish', 'existential', '20th', 'wrenching', 'compassion', 'share', 'die', 'handful', 'pratfalls', 'scooby', 'intermittently', 'robin', 'anybody', 'wake', 'freeman', 'much', 'remain', 'film', 'minute', 'chabrol', 'director', '13', 'guys', 'cheap', 'triumph', 'convoluted', 'enough', 'done', 'serves', 'mainstream', 'britney', 'guilty', 'directs', 'acted', 'copy', 'sympathetic', 'laughing', 'unpleasant', 'historical', 'extraordinary', 'minimalist', 'necessarily', 'yearning', 'stomach', 'artifice', 'sees', 'angle', 'corner', 'cynicism', 'visceral', 'awe', 'hoffman', 'bowling', 'wild', 'emotional', 'acting', 'production', 'hollow', 'long', 'social', 'deserves', 'sequences', 'phones', 'motion', 'cop', 'pile', 'disposable', 'encounter', 'fills', 'marvelous', 'buoyant', 'presence', 'angst', 'distinctive', 'christmas', 'jaw', 'snipes', 'hunter', 'expect', 'tv', 'city', 'harrowing', 'slight', 'bond', 'intentioned', 'artists', 'comparison', 'fable', 'ego', 'air', 'issue', 'crowd', 'forget', 'sake', 'sleep', 'content', 'protagonist', 'reality', 'cloying', 'frustrating', 'odd', 'drunk', 'poignancy', 'polished', 'main', 'remembering', 'physical', 'obstacles', 'spent', 'angry', 'satisfied', 'tawdry', 'hate', 'beneath', 'lack', 'upon', 'steers', 'stop', 'science', 'intriguing', 'intoxicating', 'fall', 'somewhat', 'drumline', 'deeds', 'anywhere', 'filled', 'truly', 'crush', 'fine', 'fish', 'convey', 'touching', 'acts', 'france', 'trailer', 'squarely', 'mel', 'award', 'pack', 'pic', 'says', 'rings', 'walsh', 'providing', 'root', 'west', 'impeccable', 'avoid', 'powers', 'place', 'directed', 'want', 'utterly', 'extended', 'merit', 'empathy', 'inexplicable', 'superb', 'personal', 'tarantino', 'lingering', 'next', 'eye', 'ages', 'russell', 'prospect', 'spend', 'fashioned', 'discovery', 'showcase', 'elaborate', 'splendid', 'decent', 'subject', 'approach', 'james', 'yet', 'trying', 'innocence', 'relationships', 'c', 'creature', 'transcends', 'idea', 'road', 'human', 'watch', 'water', 'hearted', '20', 'african', 'broad', 'racial', 'spirit', 'served', 'detail', 'painful', 'praise', 'audacious', 'store', 'capable', 'casual', 'vital', 'unforced', 'crap', 'wrapped', 'sensibility', 'farrelly', 'reason', 'horror', 'writers', 'highly', 'solid', 'memory', 'thoughtful', 'wallace', 'hits', 'graphic', 'weak', 'imagine', 'remains', 'rank', 'academy', 'plus', 'todd', 'evocative', 'knowing', 'attractive', 'chases', 'ability', 'strain', 'worthwhile', 'evelyn', 'squanders', 'lan', 'undoubtedly', 'rohmer', 'scratch', 'paradiso', 'predecessor', 'casting', 'revealing', 'meditation', 'late', 'foreign', 'stops', 'brutal', 'indeed', 'intimacy', 'seven', 'son', 'longing', 'sadness', 'loves', '8', 'challenging', 'bruckheimer', 'charlie', 'traditional', 'spinning', 'harry', 'zero', 'engaged', 'demented', 'infomercial', 'wearing', 'factor', 'french', 'camera', 'appreciate', 'demons', 'everyone', 'fiction', 'face', 'degree', 'recycled', 'finding', 'background', 'final', 'accomplished', 'ramsay', 'dignity', 'cult', 'cheek', 'disguise', 'gut', 'born', 'six', 'realize', 'deserved', 'filling', 'concert', 'eddie', 'failure', 'us', 'poetry', 'shyamalan', 'initial', 'head', 'adaptation', 'starts', 'style', 'terrific', 'kinda', 'ensemble', 'outing', 'follows', 'think', 'happiness', 'inevitable', 'score', 'seemingly', 'lilo', 'integrity', 'distant', 'crisp', 'pathos', 'grating', 'goodfellas', 'stuck', 'effectively', 'willing', 'lit', 'relief', 'almost', 'williams', 'lead', 'richer', 'art', 'gem', 'conviction', 'manner', 'pants', 'giant', 'difference', 'wanted', 'harmless', 'comfort', 'seconds', 'godard', 'faster', 'incredibly', 'wise', 'required', 'blood', 'lucky', 'exceedingly', 'dahmer', 'entertain', 'story', 'rest', 'precious', 'effortlessly', 'reveals', 'living', 'around', 'several', 'tiresome', 'basic', 'celebrates', 'moves', 'spoof', 'amounts', 'caught', 'artificial', 'based', 'use', 'deliberately', 'win', 'search', 'conscious', 'chick', 'potentially', 'wedding', 'wants', 'carry', 'fear', 'kicks', 'noble', 'longer', 'notorious', 'forgive', 'fisher', 'brother', 'disjointed', 'pain', 'mid', 'arts', 'mood', 'mill', 'strong', 'pat', 'emphasizes', 'saved', 'refreshingly', 'dangerous', 'uneven', 'fast', 'supernatural', 'chills', 'buy', 'explore', 'unique', 'suffers', 'box', 'promise', 'reflection', 'seagal', 'voice', 'market', 'kiss', 'tragic', 'lesson', 'leaving', 'reel', 'fate', 'limp', 'admire', 'dying', 'labored', 'drags', 'relatively', 'onto', 'excess', 'advantage', 'generally', 'smarter', 'costumes', 'sentiment', 'malkovich', 'tales', 'schwarzenegger', 'good', 'script', 'different', 'team', 'credits', 'b', 'last', 'pay', 'accurate', 'emotionally', 'crafted', 'typical', 'yes', 'provides', 'offbeat', 'robert', 'directing', 'mean', 'creative', 'stupid', 'behavior', 'center', 'layered', 'decades', 'glorious', 'came', 'scores', 'admirable', 'nation', 'technology', 'waiting', 'gender', 'produced', 'revolution', 'witless', 'intensely', 'buddy', 'roles', 'tuck', 'wet', 'lady', 'waste', 'struggle', 'non', 'screaming', 'x', 'depressing', 'mesmerizing', 'among', 'austin', 'heat', 'psychologically', 'flawed', 'stretched', 'inspirational', 'men', 'birthday', 'unexpectedly', 'inherent', 'rewarding', 'crucial', 'conduct', 'tuxedo', 'pulling', 'neil', 'tragedy', 'source', 'charmer', 'skin', 'sequels', 'consistently', 'unlikely', 'open', 'single', 'handed', 'poetic', 'improve', 'holiday', 'garbage', 'band', 'likely', 'figure', 'able', 'musical', 'child', 'account', 'scary', 'event', 'queen', 'station', 'actresses', 'limited', 'empowerment', 'profile', 'formulaic', 'chilly', 'marginal', 'philosophical', 'oh', 'craft', 'brisk', 'zhang', 'familiar', 'unless', 'performances', 'vapid', 'across', 'movements', 'delivered', 'ones', 'entirely', 'spiritual', 'honest', 'future', 'revenge', 'sequel', 'parable', 'natured', 'survive', 'drug', 'hoped', 'critical', 'heads', 'lewis', 'awkward', 'fantastic', 'nomination', 'ghetto', 'simplicity', 'vitality', 'hackneyed', 'smoochy', 'vanity', '11', 'prophecies', 'trapped', 'nijinsky', 'venture', 'indulgent', 'letting', 'eric', 'poorly', 'swimfan', 'used', 'bizarre', 'intimate', 'korean', 'dreadful', 'sappy', 'intensity', 'treasure', 'dare', 'instincts', 'happened', 'bridge', 'notion', 'quickly', 'guilt', 'justify', 'sound', 'intent', 'auto', 'definitive', 'demands', 'sticks', 'constantly', 'inspiration', 'properly', 'testament', 'tout', '21st', 'g', 'downbeat', 'independent', 'seeking', 'winning', 'terms', 'monty', 'slip', 'tragedies', 'writer', 'recent', 'polanski', 'brilliant', 'drag', 'unintentional', 'paper', 'picture', 'exposition', 'seinfeld', 'blue', 'vampire', 'unlike', 'words', 'erotic', 'teens', 'police', 'rhythm', 'animal', 'clothes', 'adult', 'prison', 'lies', 'creativity', 'missed', 'exhilarating', 'victims', 'poverty', 'derivative', 'displays', 'pro', 'murder', 'plays', 'moonlight', 'keeps', 'usual', 'true', 'characters', 'ambition', 'tells', 'lee', 'potent', 'anything', 'poor', 'strikes', 'irritating', 'sane', 'help', 'female', 'ago', 'sugar', 'pleasures', 'mature', 'substance', 'basically', 'persona', 'language', 'fool', 'phony', 'concern', 'wannabe', 'appealing', 'presents', 'carried', 'greek', 'thinks', 'minds', 'rooting', 'embarrassment', 'case', 'crime', 'drawn', 'hollywood', 'ideas', 'strike', 'humanity', 'tale', 'core', 'unnerving', 'web', 'logic', 'lively', 'mix', 'textbook', 'rocky', 'parts', 'throughout', 'jackie', 'understanding', 'darker', 'mother', 'vivid', 'sell', 'loud', 'sport', 'deliver', 'curves', 'simone', 'cruel', 'sour', 'steve', 'english', 'unusually', 'waters', 'pokemon', 'tender', 'insight', 'dvd', 'daughter', 'heart', 'teenage', 'verve', 'walk', 'staged', 'kevin', 'trifle', 'space', 'glass', 'sum', 'intentions', 'alike', 'caine', 'diesel', 'astonishingly', 'wilson', 'apparently', 'service', 'cannes', 'staggeringly', 'brosnan', 'type', 'maudlin', 'bored', 'contradictory', 'colors', 'improvised', 'quirks', 'manipulative', 'every', 'rating', 'courage', 'feet', 'homage', 'add', 'genuinely', 'intellectual', 'except', 'ritchie', 'cell', 'speaking', 'mixture', 'jean', 'slowly', 'british', 'slow', 'stunt', 'ethnic', 'finale', 'listen', 'sight', 'builds', 'prefer', 'teacher', 'drama', 'chance', 'make', 'mention', 'cross', 'americans', 'narc', 'past', 'sounds', 'generate', 'class', 'quite', 'davis', 'appeal', 'loved', 'uneasy', 'woody', 'faithful', 'bringing', 'footage', 'regret', 'yu', 'michel', 'one', 'less', 'structure', 'ties', 'american', 'product', 'lurid', 'ultra', 'manages', 'benjamins', 'worthy', 'dreary', 'target', 'washington', 'schmidt', 'ponder', 'lyrical', 'fantasy', 'festival', 'charged', 'tribute', 'penetrating', 'grow', 'cherish', 'crane', 'choppy', 'contains', 'piccoli', 'rodriguez', 'work', 'plot', 'action', 'ends', 'cartoon', 'young', 'probably', 'consciousness', 'freaks', 'insanely', 'super', 'threat', 'country', 'seriously', 'convenient', 'somehow', 'engage', 'settles', 'con', 'gang', 'liked', 'disaster', 'spot', 'blast', 'finds', 'larger', 'filmed', 'edited', 'achingly', 'enter', 'brooding', 'denying', 'portray', 'still', 'indie', 'clearly', 'age', 'sensational', 'hell', 'david', 'please', 'filmmaking', 'funnier', 'moments', 'explosions', 'break', 'string', 'urge', 'strangely', 'laughs', 'comedic', 'atmosphere', 'creates', 'emerge', 'searching', 'southern', 'minor', 'experiences', 'desperate', 'jim', 'urban', 'committed', 'muddled', 'car', 'triangle', 'abuse', 'tradition', 'suggests', 'wacky', 'nuanced', 'patient', 'juvenile', 'ball', 'beginning', 'passable', 'wilco', 'love', 'windtalkers', 'grace', 'blame', 'thanks', 'looking', 'tone', 'seen', 'bunch', 'played', 'carvey', 'needed', 'ignore', 'beauty', 'talent', 'effect', 'puzzling', 'aspirations', 'locations', 'undeniably', 'earn', 'jackson', 'astonishing', 'arrive', 'captivating', 'alternative', 'secrets', 'distance', 'aspects', 'similarly', 'grasp', 'subplots', 'giddy', 'legacy', 'tears', 'well', 'comes', 'list', 'taking', 'spider', 'natural', 'keeping', 'directors', 'telling', 'refuses', 'damaged', 'forgotten', 'sentimental', 'vividly', 'squeeze', 'howard', 'artistic', 'display', 'succeeds', 'episodes', 'ups', 'self', 'mile', 'rather', 'eyes', 'stale', 'lush', 'perfectly', 'gifted', 'shadows', 'appears', 'authentic', 'endearing', 'gravity', 'subtle', 'essence', 'politics', 'potential', 'executed', 'pointed', 'references', 'aside', 'inane', 'droll', 'pleasurable', 'determination', 'max', 'decency', 'compared', 'flick', 'subtly', 'moment', 'endless', 'documentary', 'weird', 'sumptuous', 'daring', 'considering', 'confident', 'million', 'tortured', 'side', 'note', 'bound', 'ranks', 'deceptively', 'obviously', 'hugely', 'carrying', 'payoff', 'timely', 'player', 'chekhov', 'anyway', 'gore', 'focus', 'bitter', 'frontal', 'psychological', 'chateau', 'adventurous', 'unoriginal', 'aimed', 'unfaithful', 'rap', 'apart', 'pop', 'sci', 'sets', 'heavy', 'preposterous', 'proper', 'news', 'turned', 'bag', 'ticket', 'lower', 'frailty', 'project', 'loses', 'television', 'edge', 'walter', 'winner', '1', 'pretentious', 'grant', 'equally', 'nuance', 'savvy', 'ten', 'broomfield', 'significant', 'catches', 'arguments', 'fourth', 'intrigue', 'reading', 'n', 'actually', 'accents', 'revelatory', 'chooses', 'miss', 'pointless', 'small', 'odds', 'translation', 'guy', 'notwithstanding', 'runs', '2', 'intelligent', 'sick', 'listless', 'showtime', 'endlessly', 'amused', 'total', 'alternately', 'struggling', 'wrote', 'transcend', 'choice', 'ring', 'kline', 'baby', 'charisma', 'hoping', 'tap', 'energetic', 'infidelity', 'sarandon', 'cage', 'resist', 'afraid', 'treats', 'even', 'thick', 'fatal', 'nerve', 'ham', 'melodramatic', 'shock', 'corny', 'surreal', 'may', 'masterpiece', 'sentimentality', 'length', 'lots', 'flash', 'insomnia', 'rip', 'set', 'allen', 'heady', 'cat', 'flaws', 'considered', 'matter', 'poignant', 'unflinching', 'thomas', 'silver', 'determined', 'altogether', 'stage', 'developed', 'rouge', 'insulting', '12', 'alas', 'demonstrates', 'uncompromising', 'kahlo', 'touches', 'nearly', 'serious', 'nothing', 'scenes', 'spielberg', 'hold', 'culture', 'stars', 'people', 'involved', 'rote', 'bigger', 'fan', 'famous', 'bit', 'themes', 'feeling', 'conceived', 'crudup', 'brothers', 'disappointing', 'playful', 'joel', 'tense', 'worn', 'terrifying', 'psychology', 'range', 'thematic', 'vs', 'stealing', 'ballistic', 'buried', 'worth', 'plodding', '100', 'sure', 'cliche', 'downright', 'york', 'pretty', 'barely', 'kind', 'efforts', 'low', 'unfocused', 'private', 'cable', 'experiment', 'stand', 'anyone', 'take', 'ended', 'beat', 'close', 'abstract', 'collateral', 'breaks', 'wonderfully', 'oriented', 'kidman', 'excuse', 'evans', 'buffs', 'dramas', 'sever', 'sense', 'aims', 'makers', 'war', 'imax', 'mostly', 'completely', 'cool', 'example', 'post', 'exotic', 'moviemaking', 'white', 'nostalgia', 'hitting', 'closer', 'planet', 'genre', 'lends', 'manhattan', 'obsession', 'theatre', 'wave', 'friendship', 'murphy', 'folk', 'holes', 'vehicle', 'inconsequential', 'collapses', 'examines', 'imitation', 'bucks', 'noise', 'vietnam', 'mothman', 'personalities', 'duke', 'bold', 'perverse', 'movies', 'wilde', 'short', 'record', 'believe', 'misses', 'fire', 'generates', 'pictures', 'cares', 'sara', 'ironic', 'design', 'remarkably', 'slap', 'damn', 'storyline', 'witherspoon', 'overwrought', 'memorable', 'unsettling', 'tries', 'diversion', 'seems', 'budget', 'knows', 'thing', 'predictable', 'pays', 'hour', '3', 'tough', 'context', 'somber', 'teenagers', 'marks', 'absolutely', 'along', 'nowhere', 'intelligence', 'pick', 'solidly', 'grown', 'god', 'pull', 'impact', 'shot', 'confusing', 'reach', 'shelf', 'feathers', 'meant', 'featuring', 'convince', 'timeless', 'stitch', 'intricate', 'dubious', 'enthralling', 'though', 'satisfying', 'point', 'oscar', 'series', 'ready', 'mystery', 'deal', 'chase', 'strength', 'flashy', 'bear', 'badly', 'count', 'resembles', 'terrible', 'chief', 'support', 'cartoons', 'metaphor', 'presented', 'assured', 'chuckles', 'bottom', 'battle', 'care', 'within', 'cheesy', 'routine', 'document', 'misery', 'blend', 'offer', 'national', 'entertainment', 'successful', 'mainly', 'painfully', 'hop', 'trash', 'dysfunctional', 'animated', 'plenty', 'remake', 'halloween', 'stereotypes', 'opening', 'drugs', 'striking', 'built', 'sparkling', 'spy', 'outstanding', 'respectable', 'sub', 'edges', 'coherent', 'friends', 'grab', 'pow', 'meaning', 'middle', 'goes', 'returns', 'rush', 'eight', 'america', 'flair', 'yarn', 'destruction', 'become', 'achieves', 'realistic', 'absurdity', 'personality', 'isolation', 'souls', 'decade', 'girls', 'starring', 'admittedly', 'understated', 'hannibal', 'rising', 'chinese', 'cutesy', 'connection', 'jewish', 'complications', 'first', 'filmmaker', 'lazy', 'enjoy', 'analyze', 'achievement', 'fit', 'fresh', 'shots', 'shocks', 'melodrama', 'catch', 'left', 'superficial', 'll', 'earlier', 'elements', 'occasionally', 'thin', 'e', 'general', 'exaggerated', 'directorial', 'chan', 'maintains', 'spring', 'seek', '30', 'extra', 'rendered', 'finely', 'digital', 'reminiscent', 'jack', 'rob', 'janice', 'imaginative', 'someone', '15', 'technically', 'screening', 'wind', 'taylor', 'sketchy', 'graceful', 'sitting', 'cliched', 'easily', 'boy', 'evil', 'contrived', 'neither', 'cut', 'charming', 'beautifully', 'told', 'nice', 'faced', 'roger', 'admit', 'apparent', 'begins', 'ai', 'simplistic', 'connect', 'depth', 'hastily', 'suburban', 'felt', '9', 'dazzling', 'person', 'showcases', 'consider', 'stephen', 'talky', 'phone', 'wonders', 'clear', 'shake', 'nevertheless', 'german', 'proof', 'legal', 'ambiguous', 'term', 'suspect', 'come', 'q', 'lanes', 'stuff', 'bodies', 'blown', 'killer', 'generous', 'bleak', 'fathers', 'dumb', 'asks', 'effort', 'mere', 'dead', 'front', 'believable', 'wars', 'plotted', 'plain', 'express', 'distinctly', 'jessica', 'scenario', 'literary', 'building', 'diverting', 'saving', 'heroine', 'paints', 'morning', 'mad', 'torn', 'performance', 'movie', 'occasional', 'feel', 'particularly', 'impossible', 'john', 'visually', 'years', 'really', 'hole', 'favors', 'dramatic', 'shines', 'disappointingly', 'spare', 'certainly', 'deeper', 'michael', 'packed', 'tepid', 'ought', 'happening', 'thoroughly', 'closely', 'issues', 'however', 'imagination', 'uncomfortably', 'remotely', 'weighty', 'others', 'pleasing', 'shadyac', 'laughable', 'nonetheless', 'fly', 'ecks', 'little', 'might', 'rrb', 'usually', 'noyce', 'instantly', 'lawrence', 'sophomoric', 'dragons', 'jason', 'various', 'pair', 'emphasis', 'order', 'false', 'red', 'effects', 'talented', 'truth', 'hoot', 'despair', 'crude', 'whether', 'adventure', 'concerned', 'international', 'devices', 'whimsical', 'taken', 'draws', 'reasonably', 'wins', 'affirming', 'observations', 'cautionary', 'delightful', 'pretension', 'sides', 'eloquent', '51', 'competent', 'pantheon', 'recommend', 'full', 'feels', 'impressed', 'involving', 'execution', 'understand', 'greene', 'resonant', 'portrait', 'amiable', 'looks', 'always', 'exceptionally', 'paced', 'throws', 'mysterious', 'secret', 'borrows', 'hear', 'large', 'aficionados', 'jealousy', 'showing', 'similar', 'pedestrian', 'reminder', 'adventures', 'literally', 'race', 'glimpse', 'unsentimental', 'league', 'bright', 'ways', 'big', 'horrifying', 'peter', 'pianist', 'monster', 'weight', 'least', 'base', 'indian', 'proceedings', 'bug', 'soul', 'fair', 'anomie', 'argue', 'adequate', 'including', 'fluff', 'wow', 'ryan', 'awful', 'somebody', 'noir', 'circuit', 'bursts', 'chou', 'denial', 'remind']\n",
            "Vetor entertaining: [-0.13553844392299652,0.03944551944732666,0.03806566819548607,0.08553558588027954,-0.02614559605717659]\n",
            "(5, 5) (10, 5)\n"
          ]
        }
      ],
      "source": [
        "# EXERCICIO\n",
        "uniqueWords = (wordsRDD\n",
        "               .flatMap(lambda x: [(i,1) for i in x])\n",
        "               .reduceByKey(lambda x,y:x+y)\n",
        "               .filter(lambda x : x[1]>=5)\n",
        "               .map(lambda x:x[0])\n",
        "               .collect()\n",
        "               )\n",
        "\n",
        "print ('{} tokens únicos'.format(len(uniqueWords)))\n",
        "print(uniqueWords)\n",
        "w2v = {}\n",
        "for w in uniqueWords:\n",
        "    w2v[w] = model.transform(w)\n",
        "w2vb = sc.broadcast(w2v)  # acesse como w2vb.value[w]     \n",
        "print ('Vetor entertaining: {}'.format( w2v[u'entertaining']))\n",
        "\n",
        "vectorsRDD = (wordsRDD\n",
        "              .map(lambda ws: np.array([w2vb.value[w] for w in ws if w in w2vb.value]))\n",
        "             \n",
        "             )\n",
        "recs = vectorsRDD.take(2)\n",
        "firstRec, secondRec = recs[0], recs[1]\n",
        "print (firstRec.shape, secondRec.shape)"
      ]
    },
    {
      "cell_type": "code",
      "execution_count": 50,
      "metadata": {
        "collapsed": true,
        "id": "fP6xhlX-qGTM"
      },
      "outputs": [],
      "source": [
        "# TEST Tokenizing the small datasets (1c)\n",
        "assert len(uniqueWords) == 3388,  'valor incorreto'\n",
        "assert np.mean(np.abs(w2v[u'entertaining']-[-0.13553844392299652,0.03944551944732666,0.03806566819548607,0.08553558588027954,-0.02614559605717659]))<1e-6,'valor incorreto'\n",
        "assert secondRec.shape == (10,5)"
      ]
    },
    {
      "cell_type": "markdown",
      "metadata": {
        "id": "QQUzqvH3qGTN"
      },
      "source": [
        "### **Parte 2: k-Means para cuantificar atributos**\n",
        "\n",
        "#### Llegados a este punto, es fácil ver que no podemos aplicar nuestras técnicas de aprendizaje supervisado a esta base de datos:\n",
        "\n",
        "   * #### La regresión logística requiere un vector de tamaño fijo que represente cada objeto\n",
        "   * #### k-NN necesita una forma clara de comparar dos objetos, ¿qué métrica de similitud debemos aplicar?\n",
        "  \n",
        "#### Para resolver esta situación, realicemos una nueva transformación en nuestro RDD. Primero, aprovechemos el hecho de que dos tokens con un significado similar se asignan a vectores similares para agruparlos en un solo atributo.\n",
        "\n",
        "#### Al aplicar k-Means a este conjunto de vectores, podemos crear $k$ puntos representativos y, para cada documento, generar un histograma de recuento de tokens en los clústeres generados."
      ]
    },
    {
      "cell_type": "markdown",
      "metadata": {
        "id": "dCbsi0-iqGTN"
      },
      "source": [
        "#### **(2a) Agrupando los vectores y creando centros representativos**\n",
        "\n",
        "#### Como primer paso generaremos un RDD con los valores del diccionario `w2v`. A continuación, aplicaremos el algoritmo `k-Means` con $k = 200$ y $seed = 42$."
      ]
    },
    {
      "cell_type": "code",
      "execution_count": 51,
      "metadata": {
        "collapsed": true,
        "id": "4x4uEc1AqGTO",
        "colab": {
          "base_uri": "https://localhost:8080/"
        },
        "outputId": "1eef612c-5e0f-42c5-b49a-c49e3bf6cf64"
      },
      "outputs": [
        {
          "output_type": "stream",
          "name": "stdout",
          "text": [
            "Sample vector: [array([-0.07269461,  0.09603201,  0.20506908, -0.03772384,  0.08151765])]\n",
            "10 first clusters allocation: [5, 136, 37, 12, 145, 66, 63, 84, 140, 66]\n"
          ]
        }
      ],
      "source": [
        "# EXERCICIO\n",
        "from  pyspark.mllib.clustering import KMeans\n",
        "\n",
        "vectors2RDD = sc.parallelize(np.array(list(w2v.values())),1)\n",
        "print ('Sample vector: {}'.format(vectors2RDD.take(1)))\n",
        "\n",
        "modelK = KMeans.train(vectors2RDD, 200, seed=42)\n",
        "\n",
        "clustersRDD = vectors2RDD.map(lambda x: modelK.predict(x))\n",
        "print ('10 first clusters allocation: {}'.format(clustersRDD.take(10)))"
      ]
    },
    {
      "cell_type": "code",
      "execution_count": 53,
      "metadata": {
        "collapsed": true,
        "id": "GnzBsHMYqGTO"
      },
      "outputs": [],
      "source": [
        "# TEST Amazon record with the most tokens (1d)\n",
        "assert clustersRDD.take(10)==[5, 136, 37, 12, 145, 66, 63, 84, 140, 66], 'valor incorreto'"
      ]
    },
    {
      "cell_type": "markdown",
      "metadata": {
        "id": "SYwN_0Z9qGTP"
      },
      "source": [
        "#### **(2b) Transformación de matriz de datos en vectores cuantificados**\n",
        "\n",
        "#### El siguiente paso es transformar nuestro RDD de frases en un RDD de pares (id, vector cuantificado). Para ello crearemos una función cuantificadora que recibirá como parámetros el objeto, el modelo k-means, el valor de k y el diccionario word2vec.\n",
        "\n",
        "#### Para cada punto, separemos el id y apliquemos la función `tokenize` a la cadena. Luego transformamos la lista de tokens en una matriz word2vec. Finalmente, aplicamos cada vector de esta matriz al modelo k-Means, generando un vector de tamaño $k$ donde cada posición $i$ indica cuántos tokens pertenecen al clúster $i$."
      ]
    },
    {
      "cell_type": "code",
      "execution_count": 54,
      "metadata": {
        "collapsed": true,
        "id": "4WZBKhM7qGTQ",
        "colab": {
          "base_uri": "https://localhost:8080/"
        },
        "outputId": "46c4a0c8-f9db-4aa7-85c9-e39fb524a8fe"
      },
      "outputs": [
        {
          "output_type": "stream",
          "name": "stdout",
          "text": [
            "[(64, array([0., 0., 0., 0., 0., 0., 0., 0., 0., 0., 0., 0., 0., 0., 0., 1., 0.,\n",
            "       0., 0., 0., 0., 0., 0., 0., 0., 0., 0., 0., 0., 0., 0., 0., 0., 0.,\n",
            "       1., 0., 0., 0., 0., 0., 0., 0., 0., 0., 0., 0., 0., 0., 0., 0., 0.,\n",
            "       0., 0., 0., 0., 0., 0., 0., 0., 0., 0., 0., 0., 0., 0., 0., 0., 0.,\n",
            "       0., 0., 0., 0., 0., 0., 0., 0., 0., 0., 0., 0., 0., 0., 0., 0., 0.,\n",
            "       0., 0., 0., 0., 0., 0., 0., 1., 1., 0., 0., 0., 0., 0., 0., 0., 0.,\n",
            "       0., 0., 0., 0., 0., 0., 0., 0., 0., 0., 0., 0., 0., 0., 0., 0., 0.,\n",
            "       0., 0., 0., 0., 0., 0., 0., 0., 0., 0., 0., 0., 0., 0., 0., 0., 0.,\n",
            "       0., 0., 0., 0., 0., 0., 0., 0., 0., 0., 0., 0., 0., 0., 0., 0., 0.,\n",
            "       0., 0., 0., 1., 0., 0., 0., 0., 0., 0., 0., 0., 0., 0., 0., 0., 0.,\n",
            "       0., 0., 0., 0., 0., 0., 0., 0., 0., 0., 0., 0., 0., 0., 0., 0., 0.,\n",
            "       0., 0., 0., 0., 0., 0., 0., 0., 0., 0., 0., 0., 0., 0., 0., 0., 0.,\n",
            "       0., 0., 0., 0., 0., 0., 0., 0., 0., 0., 0., 0., 0., 0., 0., 0., 0.,\n",
            "       0., 0., 0., 0., 0., 0., 0., 0., 0., 0., 0., 0., 0., 0., 0., 0., 0.,\n",
            "       0., 0., 0., 0., 0., 0., 0., 0., 0., 0., 0., 0., 0., 0., 0., 0., 0.,\n",
            "       0., 0., 0., 0., 0., 0., 0., 0., 0., 0., 0., 0., 0., 0., 0., 0., 0.,\n",
            "       0., 0., 0., 0., 0., 0., 0., 0., 0., 0., 0., 0., 0., 0., 0., 0., 0.,\n",
            "       0., 0., 0., 0., 0., 0., 0., 0., 0., 0., 0., 0., 0., 0., 0., 0., 0.,\n",
            "       0., 0., 0., 0., 0., 0., 0., 0., 0., 0., 0., 0., 0., 0., 0., 0., 0.,\n",
            "       0., 0., 0., 0., 0., 0., 0., 0., 0., 0., 0., 0., 0., 0., 0., 0., 0.,\n",
            "       0., 0., 0., 0., 0., 0., 0., 0., 0., 0., 0., 0., 0., 0., 0., 0., 0.,\n",
            "       0., 0., 0., 0., 0., 0., 0., 0., 0., 0., 0., 0., 0., 0., 0., 0., 0.,\n",
            "       0., 0., 0., 0., 0., 0., 0., 0., 0., 0., 0., 0., 0., 0., 0., 0., 0.,\n",
            "       0., 0., 0., 0., 0., 0., 0., 0., 0., 0., 0., 0., 0., 0., 0., 0., 0.,\n",
            "       0., 0., 0., 0., 0., 0., 0., 0., 0., 0., 0., 0., 0., 0., 0., 0., 0.,\n",
            "       0., 0., 0., 0., 0., 0., 0., 0., 0., 0., 0., 0., 0., 0., 0., 0., 0.,\n",
            "       0., 0., 0., 0., 0., 0., 0., 0., 0., 0., 0., 0., 0., 0., 0., 0., 0.,\n",
            "       0., 0., 0., 0., 0., 0., 0., 0., 0., 0., 0., 0., 0., 0., 0., 0., 0.,\n",
            "       0., 0., 0., 0., 0., 0., 0., 0., 0., 0., 0., 0., 0., 0., 0., 0., 0.,\n",
            "       0., 0., 0., 0., 0., 0., 0.]))]\n"
          ]
        }
      ],
      "source": [
        "# EXERCICIO\n",
        "def quantizador(point, model, k, w2v):\n",
        "    key = point[0]\n",
        "    words = tokenize(point[1])\n",
        "    matrix = np.array( [w2v[w] for w in words if w in w2v] )\n",
        "    features = np.zeros(k)\n",
        "    for v in matrix:\n",
        "        c = model.predict(v)\n",
        "\n",
        "        features[c] += 1\n",
        "    return (key, features)\n",
        "    \n",
        "quantRDD = dataRDD.map(lambda x: quantizador(x, modelK, 500, w2v))\n",
        "\n",
        "print (quantRDD.take(1))"
      ]
    },
    {
      "cell_type": "code",
      "execution_count": 55,
      "metadata": {
        "collapsed": true,
        "id": "Wc5XSld2qGTQ"
      },
      "outputs": [],
      "source": [
        "# TEST Implement a TF function (2a)\n",
        "assert quantRDD.take(1)[0][1].sum() == 5, 'valores incorretos'"
      ]
    }
  ],
  "metadata": {
    "kernelspec": {
      "display_name": "Python 3 (ipykernel)",
      "language": "python",
      "name": "python3"
    },
    "language_info": {
      "codemirror_mode": {
        "name": "ipython",
        "version": 3
      },
      "file_extension": ".py",
      "mimetype": "text/x-python",
      "name": "python",
      "nbconvert_exporter": "python",
      "pygments_lexer": "ipython3",
      "version": "3.9.7"
    },
    "colab": {
      "name": " Lab04.ipynb",
      "provenance": []
    }
  },
  "nbformat": 4,
  "nbformat_minor": 0
}