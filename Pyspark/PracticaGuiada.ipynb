{
 "cells": [
  {
   "cell_type": "markdown",
   "id": "5cae9fec-ddba-49ca-9139-31f091ddab7a",
   "metadata": {},
   "source": [
    "# Practica Guiada\n",
    "```\n",
    "Alumna : Milagros yarahuaman rojas\n",
    "Codigo : 171071\n",
    "Asignatura: Mineria de datos\n",
    "Docente: Carlos Fernando Montoya Cubas\n",
    "\n",
    "```"
   ]
  },
  {
   "cell_type": "code",
   "execution_count": null,
   "id": "9efc6a6e-e54e-4358-a40c-f5b44f55c905",
   "metadata": {},
   "outputs": [],
   "source": [
    "import findspark\n",
    "import numpy as np\n",
    "findspark.init()\n",
    "     \n",
    "import pyspark # only run after findspark.init()\n",
    "from pyspark.sql import SparkSession\n",
    "from pyspark import SparkContext\n",
    "sc = SparkContext.getOrCreate()"
   ]
  },
  {
   "cell_type": "code",
   "execution_count": 17,
   "id": "cf175d1b-6351-404c-96b4-49eb66103f81",
   "metadata": {},
   "outputs": [],
   "source": [
    "def escalonamiento(x):\n",
    "    \"\"\"\n",
    "    En el escalonamiento buscamos los valores maximos y minimos para la normalizacion\n",
    "    \n",
    "    Arg: \n",
    "        Lista (int) : Lista de numeros\n",
    "        \n",
    "    Returns:\n",
    "        Lista con valores Escalonados\n",
    "    \n",
    "    \"\"\"\n",
    "    #Procuramos o valor minimo y maximo do RDD x\n",
    "    \n",
    "    minimo = x.min()\n",
    "    maximo = x.max()\n",
    "    \n",
    "    #Para cada valor xi mapeado operamos (xi-minimo)/(maximo-minimo)\n",
    "    lista= x.map(lambda xi : (xi-minimo)/(maximo-minimo))\n",
    "    #Retornamos la lista\n",
    "    return lista"
   ]
  },
  {
   "cell_type": "code",
   "execution_count": 20,
   "id": "bb890fbd-0d38-4f1e-b079-2ca3711f7bb1",
   "metadata": {},
   "outputs": [
    {
     "name": "stdout",
     "output_type": "stream",
     "text": [
      "[0.0, 0.25, 0.5, 0.75, 1.0]\n"
     ]
    }
   ],
   "source": [
    "#Declaramos la lista\n",
    "a=np.array([1,2,3,4,5])\n",
    "#Lo convertimos a un RDD \n",
    "lista=sc.parallelize(a, 4)\n",
    "#Llamamos a la funcion\n",
    "r=escalonamiento(lista)\n",
    "#Mostramos resultados\n",
    "print(r.collect())"
   ]
  },
  {
   "cell_type": "code",
   "execution_count": 25,
   "id": "db089f98-7b3c-438c-8d08-565984461b19",
   "metadata": {},
   "outputs": [],
   "source": [
    "def cosenos(x,y):\n",
    "    \"\"\"\n",
    "    La similitud de cosenos es una medida de la similitud existente entre dos vectores\n",
    "    en un espacio que posee un producto interior con el que se evalúa \n",
    "    el valor del coseno del ángulo comprendido entre ellos.\n",
    "    \n",
    "    Arg: Una RDD x & una RDD y\n",
    "    \n",
    "    Returns: \n",
    "        Valor de la similitud de cosenos\n",
    "    \"\"\"\n",
    "    def punto(x,y):\n",
    "        #Definimos el algoritmo del producto punto\n",
    "        #Para ello utilizamos la funcion Zip el cual comprime este el RDD x con RDD y \n",
    "        return x.zip(y).map(lambda x: x[0]*x[1]).reduce(lambda x , y :x+y) \n",
    "    #Guardamos el valor del numerador\n",
    "    nu=punto(x,y)\n",
    "    #Guardamos el valor del denominador donde tambien podemos usar la funcion punto para ellevar al cuadrado los\n",
    "    #valores de Xi y Yi\n",
    "    \n",
    "    den=(punto(x,x)*punto(y,y))\n",
    "    return nu/den\n",
    "        \n",
    "    "
   ]
  },
  {
   "cell_type": "code",
   "execution_count": 28,
   "id": "7f2207fb-0516-4246-a3ea-54a34f4fdeae",
   "metadata": {},
   "outputs": [
    {
     "data": {
      "text/plain": [
       "0.005936073059360731"
      ]
     },
     "execution_count": 30,
     "metadata": {},
     "output_type": "execute_result"
    }
   ],
   "source": [
    "#Declaramos las listas\n",
    "x = sc.parallelize(range(0,5))\n",
    "\n",
    "y = sc.parallelize(range(10, 15))\n",
    "#Llamamos a a funcion\n",
    "cosenos(x,y)\n"
   ]
  },
  {
   "cell_type": "code",
   "execution_count": null,
   "id": "58366e1b-9d78-4e83-b509-68208124df57",
   "metadata": {},
   "outputs": [],
   "source": []
  }
 ],
 "metadata": {
  "kernelspec": {
   "display_name": "Python 3 (ipykernel)",
   "language": "python",
   "name": "python3"
  },
  "language_info": {
   "codemirror_mode": {
    "name": "ipython",
    "version": 3
   },
   "file_extension": ".py",
   "mimetype": "text/x-python",
   "name": "python",
   "nbconvert_exporter": "python",
   "pygments_lexer": "ipython3",
   "version": "3.9.5"
  }
 },
 "nbformat": 4,
 "nbformat_minor": 5
}
