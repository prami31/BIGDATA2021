{
 "cells": [
  {
   "cell_type": "markdown",
   "id": "aca29ac9",
   "metadata": {},
   "source": [
    "# Practica Guiada\n",
    "```\n",
    "Alumna : Milagros yarahuaman rojas\n",
    "Codigo : 171071\n",
    "Asignatura: Mineria de datos\n",
    "Docente: Carlos Fernando Montoya Cubas\n",
    "\n",
    "```"
   ]
  },
  {
   "cell_type": "code",
   "execution_count": 16,
   "id": "331b99ca-71f0-4bf0-a21d-296c1994dd13",
   "metadata": {},
   "outputs": [],
   "source": [
    "import findspark\n",
    "import numpy as np\n",
    "findspark.init()\n",
    "     \n",
    "import pyspark # only run after findspark.init()\n",
    "from pyspark.sql import SparkSession\n",
    "from pyspark import SparkContext\n",
    "sc = SparkContext.getOrCreate()"
   ]
  },
  {
   "cell_type": "markdown",
   "id": "acf19960",
   "metadata": {},
   "source": [
    "### 1.Estandarizacion"
   ]
  },
  {
   "cell_type": "code",
   "execution_count": 6,
   "id": "e52c76dd",
   "metadata": {},
   "outputs": [],
   "source": [
    "def estandarizacion(x):\n",
    "    \"\"\"Estandariza los elementos de un RDD\n",
    "    \n",
    "    Args:\n",
    "        X (RDD numeric):array RDD numeric\n",
    "    Returns:\n",
    "        RDD: Vector estandarizado\n",
    "    \"\"\"\n",
    "    media  = x.mean()#obtenemos la media del RDD\n",
    "    std    = x.stdev()#obtenemos la desviacion estandar\n",
    "    lista= x.map(lambda xi : (xi-media)/std)#escalonamos cada elemento com map\n",
    "    return lista #retornamos el RDD escalonado"
   ]
  },
  {
   "cell_type": "code",
   "execution_count": 7,
   "id": "91fc06c4",
   "metadata": {},
   "outputs": [
    {
     "name": "stdout",
     "output_type": "stream",
     "text": [
      "[-1.414213562373095, -0.7071067811865475, 0.0, 0.7071067811865475, 1.414213562373095]\n"
     ]
    }
   ],
   "source": [
    "Vec = sc.parallelize(range(40,45),4)\n",
    "VectorEs=estandarizacion(Vec)\n",
    "print(VectorEs.collect())"
   ]
  },
  {
   "cell_type": "markdown",
   "id": "5d06257b",
   "metadata": {},
   "source": [
    "### 2.Escalonamiento"
   ]
  },
  {
   "cell_type": "code",
   "execution_count": 8,
   "id": "cd8c256f",
   "metadata": {},
   "outputs": [],
   "source": [
    "def escalonamiento(x):\n",
    "    \"\"\"\n",
    "    En el escalonamiento buscamos los valores maximos y minimos para la normalizacion\n",
    "    \n",
    "    Arg: \n",
    "        Lista (int) : Lista de numeros\n",
    "        \n",
    "    Returns:\n",
    "        Lista con valores Escalonados\n",
    "    \n",
    "    \"\"\"\n",
    "    #Procuramos o valor minimo y maximo do RDD x\n",
    "    \n",
    "    minimo = x.min()\n",
    "    maximo = x.max()\n",
    "    \n",
    "    #Para cada valor xi mapeado operamos (xi-minimo)/(maximo-minimo)\n",
    "    lista= x.map(lambda xi : (xi-minimo)/(maximo-minimo))\n",
    "    #Retornamos la lista\n",
    "    return lista"
   ]
  },
  {
   "cell_type": "code",
   "execution_count": 9,
   "id": "46accf2f",
   "metadata": {},
   "outputs": [
    {
     "name": "stdout",
     "output_type": "stream",
     "text": [
      "[0.0, 0.1111111111111111, 0.2222222222222222, 0.3333333333333333, 0.4444444444444444, 0.5555555555555556, 0.6666666666666666, 0.7777777777777778, 0.8888888888888888, 1.0]\n"
     ]
    }
   ],
   "source": [
    "Vec = sc.parallelize(range(25,35),4)\n",
    "VectorEs=escalonamiento(Vec)\n",
    "print(VectorEs.collect())"
   ]
  },
  {
   "cell_type": "markdown",
   "id": "a4a75f11",
   "metadata": {},
   "source": [
    "### 3.Normalizacion"
   ]
  },
  {
   "cell_type": "code",
   "execution_count": 10,
   "id": "a61fa425",
   "metadata": {},
   "outputs": [],
   "source": [
    "import math\n",
    "def normalizacion(x):\n",
    "    \"\"\"Normalizacion los elementos de un RDD\n",
    "    \n",
    "    Args:\n",
    "        X (RDD numeric):array RDD numeric\n",
    "    Returns:\n",
    "        RDD: Vector normalizado\n",
    "    \"\"\"\n",
    "    listaCuadrada=x.map(lambda xi:xi*xi)\n",
    "    total=listaCuadrada.sum()\n",
    "    val=math.sqrt(total)\n",
    "    lista= x.map(lambda xi :(xi/val))#escalonamos cada elemento com map\n",
    "    return lista #retornamos el RDD escalonado"
   ]
  },
  {
   "cell_type": "code",
   "execution_count": 11,
   "id": "37cd983b",
   "metadata": {},
   "outputs": [
    {
     "name": "stdout",
     "output_type": "stream",
     "text": [
      "[0.26672831766946736, 0.277397450376246, 0.28806658308302474, 0.2987357157898034, 0.3094048484965821, 0.32007398120336084, 0.3307431139101395, 0.3414122466169182, 0.3520813793236969, 0.3627505120304756]\n"
     ]
    }
   ],
   "source": [
    "Vec = sc.parallelize(range(25,35),4)\n",
    "VectorEs=normalizacion(Vec)\n",
    "print(VectorEs.collect())"
   ]
  },
  {
   "cell_type": "markdown",
   "id": "e2006080",
   "metadata": {},
   "source": [
    "### 4.Similitud de Cosenos"
   ]
  },
  {
   "cell_type": "code",
   "execution_count": null,
   "id": "78f64b4a",
   "metadata": {},
   "outputs": [],
   "source": [
    "def cosenos(x,y):\n",
    "    \"\"\"\n",
    "    La similitud de cosenos es una medida de la similitud existente entre dos vectores\n",
    "    en un espacio que posee un producto interior con el que se evalúa \n",
    "    el valor del coseno del ángulo comprendido entre ellos.\n",
    "    \n",
    "    Arg: Una RDD x & una RDD y\n",
    "    \n",
    "    Returns: \n",
    "        Valor de la similitud de cosenos\n",
    "    \"\"\"\n",
    "    def punto(x,y):\n",
    "        #Definimos el algoritmo del producto punto\n",
    "        #Para ello utilizamos la funcion Zip el cual comprime este el RDD x con RDD y \n",
    "        return x.zip(y).map(lambda x: x[0]*x[1]).reduce(lambda x , y :x+y) \n",
    "    #Guardamos el valor del numerador\n",
    "    nu=punto(x,y)\n",
    "    #Guardamos el valor del denominador donde tambien podemos usar la funcion punto para ellevar al cuadrado los\n",
    "    #valores de Xi y Yi\n",
    "    \n",
    "    den=(punto(x,x)*punto(y,y))\n",
    "    return nu/den\n",
    "        "
   ]
  },
  {
   "cell_type": "code",
   "execution_count": 17,
   "id": "1c8649b1",
   "metadata": {},
   "outputs": [
    {
     "data": {
      "text/plain": [
       "0.005936073059360731"
      ]
     },
     "execution_count": 17,
     "metadata": {},
     "output_type": "execute_result"
    }
   ],
   "source": [
    "#Declaramos las listas\n",
    "x = sc.parallelize(range(0,5))\n",
    "\n",
    "y = sc.parallelize(range(10, 15))\n",
    "#Llamamos a a funcion\n",
    "cosenos(x,y)"
   ]
  },
  {
   "cell_type": "markdown",
   "id": "b161f03d",
   "metadata": {},
   "source": [
    "### 5.Binario"
   ]
  },
  {
   "cell_type": "code",
   "execution_count": null,
   "id": "709d0b42",
   "metadata": {},
   "outputs": [],
   "source": [
    "def Binario(Doc):\n",
    "    \"\"\"Extrae los elementos [str]\n",
    "        y los converite en tuplas (str,int)\n",
    "    Args:\n",
    "        X (Doc de array de str):\n",
    "    Returns:\n",
    "        [(str,int)]: Vector de tuplas\n",
    "    \"\"\"\n",
    "    val=map(lambda x:(x,1),Doc)\n",
    "    return list(val)"
   ]
  },
  {
   "cell_type": "code",
   "execution_count": null,
   "id": "e58981e1",
   "metadata": {},
   "outputs": [],
   "source": [
    "corpus=[[\"messi\",\"messi\",\"messi\",\"ronaldo\",\"ronaldo\",\"ronaldo\",\"ronaldo\"]\n",
    "    ,[\"ronaldo\",\"ronaldo\"\"messi\",\"ronaldo\"]]\n",
    "corpusP = sc.parallelize(corpus,5)\n",
    "Vec2 = corpusP.map(lambda x:Binario(x))\n",
    "Vec2.collect()"
   ]
  }
 ],
 "metadata": {
  "kernelspec": {
   "display_name": "Python 3 (ipykernel)",
   "language": "python",
   "name": "python3"
  },
  "language_info": {
   "codemirror_mode": {
    "name": "ipython",
    "version": 3
   },
   "file_extension": ".py",
   "mimetype": "text/x-python",
   "name": "python",
   "nbconvert_exporter": "python",
   "pygments_lexer": "ipython3",
   "version": "3.9.5"
  }
 },
 "nbformat": 4,
 "nbformat_minor": 5
}
