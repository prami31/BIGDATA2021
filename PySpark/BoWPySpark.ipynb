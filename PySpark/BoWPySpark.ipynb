{
 "cells": [
  {
   "cell_type": "markdown",
   "id": "ba08f89a",
   "metadata": {},
   "source": [
    "## Algoritmos en PYSPARK BOW.hs\n",
    "##### Alumna:Milagros Yarahuaman Rojas\n",
    "#### Cod:171071"
   ]
  },
  {
   "cell_type": "markdown",
   "id": "98554165",
   "metadata": {},
   "source": [
    "#### - BAGOFWORDS"
   ]
  },
  {
   "cell_type": "code",
   "execution_count": 103,
   "id": "0de9c19a",
   "metadata": {},
   "outputs": [],
   "source": [
    "def bagofwords(Doc):\n",
    "    \"\"\"\n",
    "        -Normaliza a minusculas,\n",
    "        -Filtra letras a mayores a 2,\n",
    "        -Remueve espacios en blanco\n",
    "        Args:\n",
    "            texto (str): A string.\n",
    "        Returns:\n",
    "            [[str]]: Arreglo que contiene documentos que son [str]\n",
    "    \"\"\"\n",
    "    Temp=Doc.strip().lower().split()\n",
    "    return list(filter(lambda x:len(x)>2,Temp))"
   ]
  },
  {
   "cell_type": "code",
   "execution_count": 105,
   "id": "590a3621",
   "metadata": {},
   "outputs": [
    {
     "data": {
      "text/plain": [
       "[['messi', 'messi', 'messi', 'ronaldo', 'ronaldo', 'balon'],\n",
       " ['messi', 'ronaldo', 'futbol', 'futbol', 'futbol']]"
      ]
     },
     "execution_count": 105,
     "metadata": {},
     "output_type": "execute_result"
    }
   ],
   "source": [
    "Corpus=[\"messi messi messi ronaldo ronaldo balon\",\"messi ronaldo futbol futbol futbol\"]\n",
    "Texto=sc.parallelize(Corpus,4)\n",
    "Texto=Texto.map(bagofwords)\n",
    "Texto.take(2)"
   ]
  },
  {
   "cell_type": "markdown",
   "id": "944a29a1",
   "metadata": {},
   "source": [
    "#### - TF"
   ]
  },
  {
   "cell_type": "code",
   "execution_count": 5,
   "id": "5b73384a",
   "metadata": {},
   "outputs": [],
   "source": [
    "import math\n",
    "def TF(Doc):\n",
    "    \"\"\"\n",
    "        Funcion que calcula el tf de un documento \n",
    "        Args:\n",
    "            Doc (str): un Str que es un documento que contiene palabras\n",
    "\n",
    "        Returns:\n",
    "            (str,double): un RDD contiene (palabra,double) tupla.\n",
    "    \"\"\"\n",
    "    #Obtenemos el total de palabras de doc\n",
    "    total=len(Doc)\n",
    "    #Lista sin repeticiones\n",
    "    DocSR=list(set(Doc))\n",
    "    #Obtenemos el tf para cada palabra\n",
    "    mapeo=list(map(lambda x:(x,Doc.count(x)),DocSR))\n",
    "    tf=list(map(lambda x:(x[0],1+math.log10(x[1]/total)),mapeo))\n",
    "    return (tf)"
   ]
  },
  {
   "cell_type": "code",
   "execution_count": 106,
   "id": "3c71082e",
   "metadata": {},
   "outputs": [
    {
     "data": {
      "text/plain": [
       "[[('ronaldo', 0.5228787452803375),\n",
       "  ('messi', 0.6989700043360187),\n",
       "  ('balon', 0.22184874961635637)],\n",
       " [('ronaldo', 0.30102999566398125),\n",
       "  ('futbol', 0.7781512503836436),\n",
       "  ('messi', 0.30102999566398125)]]"
      ]
     },
     "execution_count": 106,
     "metadata": {},
     "output_type": "execute_result"
    }
   ],
   "source": [
    "Corpus=[\"messi messi messi ronaldo ronaldo balon\",\"messi ronaldo futbol futbol futbol\"]\n",
    "Texto=sc.parallelize(Corpus,4)\n",
    "Texto=Texto.map(bagofwords)\n",
    "TextoTF=Texto.map(TF)\n",
    "TextoTF.take(2)"
   ]
  },
  {
   "cell_type": "markdown",
   "id": "387377d1",
   "metadata": {},
   "source": [
    "#### - IDF"
   ]
  },
  {
   "cell_type": "code",
   "execution_count": 6,
   "id": "83bcb5f9",
   "metadata": {},
   "outputs": [],
   "source": [
    "import math\n",
    "def IDF(Doc,corpus):\n",
    "    \"\"\"\n",
    "        Funcion que calcula el IDF de un corpus de TF \n",
    "\n",
    "        Args:\n",
    "            Doc [[(str,double)]]: texto TF\n",
    "            Doc [str]:texto corpus basico procesado con bagofwords\n",
    "\n",
    "        Returns:\n",
    "            (str,double): corpus con IDF de cada palabra sin repeticiones\n",
    "    \"\"\"\n",
    "    DocP=Doc.flatMap(lambda x:x)\n",
    "    DocP=DocP.map(lambda x:x[0]).distinct()\n",
    "    #Total documentos en corpus\n",
    "    total=corpus.count()\n",
    "    corpus2=corpus.collect()\n",
    "    #Extraer cantida de veces de cada palabra en los documentos\n",
    "    IDF=DocP.map(lambda x:list(map(lambda y:(x,1 if x in y else 0),corpus2)))\n",
    "    IDF2=IDF.flatMap(lambda x:x)\n",
    "    IDF2=IDF2.groupByKey().map(lambda x:(x[0],sum(x[1])))\n",
    "    IDF2=IDF2.map(lambda x:(x[0],math.log10(1+total/x[1])))\n",
    "    return IDF2"
   ]
  },
  {
   "cell_type": "code",
   "execution_count": 107,
   "id": "a58b6c7f",
   "metadata": {},
   "outputs": [
    {
     "data": {
      "text/plain": [
       "[('ronaldo', 0.3010299956639812),\n",
       " ('messi', 0.3010299956639812),\n",
       " ('balon', 0.47712125471966244),\n",
       " ('futbol', 0.47712125471966244)]"
      ]
     },
     "execution_count": 107,
     "metadata": {},
     "output_type": "execute_result"
    }
   ],
   "source": [
    "Corpus=[\"messi messi messi ronaldo ronaldo balon\",\n",
    "          \"messi ronaldo futbol futbol futbol\"]\n",
    "Texto=sc.parallelize(Corpus,4)\n",
    "Texto=Texto.map(bagofwords)\n",
    "TextoTF=Texto.map(TF)\n",
    "TextoIDF=IDF(TextoTF,Texto)\n",
    "TextoIDF.collect()"
   ]
  },
  {
   "cell_type": "markdown",
   "id": "af381e21",
   "metadata": {},
   "source": [
    "#### - TFIDF"
   ]
  },
  {
   "cell_type": "code",
   "execution_count": 108,
   "id": "e0391c08",
   "metadata": {},
   "outputs": [],
   "source": [
    "def RecIDF(word,corpusIDF):\n",
    "    \"\"\"\n",
    "        Funcion que recuperar el valor IDF de una palabra\n",
    "        Args:\n",
    "            word str:palabra a buscar\n",
    "            Doc [(str,double)]:texto IDF\n",
    "        Returns:\n",
    "            double: IDF numerico de una palbara\n",
    "    \"\"\"\n",
    "    L=corpusIDF\n",
    "    EL=list(filter(lambda x:x[0]==word,L))\n",
    "    return EL[0][1]"
   ]
  },
  {
   "cell_type": "code",
   "execution_count": 48,
   "id": "0af710bf",
   "metadata": {},
   "outputs": [],
   "source": [
    "import math\n",
    "\n",
    "def TFIDF(TextoTF,TextoIDF):\n",
    "    \"\"\"\n",
    "        Funcion que calcula el IDF para cada Doc de TF\n",
    "        Args:\n",
    "            Doc [[(str,double)]]: texto TF\n",
    "            Doc [(str,double)]:texto IDF\n",
    "\n",
    "        Returns:\n",
    "            [(str,double)]: texto con el TFIDF de cada palabra en DOC\n",
    "    \"\"\"\n",
    "    corpusIDF=TextoIDF.collect()\n",
    "    TFIDF=TextoTF.map(lambda x:list(map((lambda y:(y[0],y[1]*RecIDF(y[0],corpusIDF))),x)))\n",
    "    return  TFIDF"
   ]
  },
  {
   "cell_type": "code",
   "execution_count": 109,
   "id": "a32db055",
   "metadata": {},
   "outputs": [
    {
     "data": {
      "text/plain": [
       "[[('ronaldo', 0.15740218642452794),\n",
       "  ('messi', 0.21041093737452465),\n",
       "  ('balon', 0.10584875377494418)],\n",
       " [('ronaldo', 0.09061905828945656),\n",
       "  ('futbol', 0.37127250094471825),\n",
       "  ('messi', 0.09061905828945656)]]"
      ]
     },
     "execution_count": 109,
     "metadata": {},
     "output_type": "execute_result"
    }
   ],
   "source": [
    "Corpus=[\"messi messi messi ronaldo ronaldo balon\",\n",
    "          \"messi ronaldo futbol futbol futbol\"]\n",
    "Texto=sc.parallelize(Corpus,4)\n",
    "Texto=Texto.map(bagofwords)\n",
    "TextoTF=Texto.map(TF)\n",
    "TextoIDF=IDF(TextoTF,Texto)\n",
    "TextoTFIDF=TFIDF(TextoTF,TextoIDF)\n",
    "TextoTFIDF.collect()"
   ]
  },
  {
   "cell_type": "markdown",
   "id": "38e80f6c",
   "metadata": {},
   "source": [
    "#### - nGrams"
   ]
  },
  {
   "cell_type": "code",
   "execution_count": 110,
   "id": "2ab8b1b1",
   "metadata": {},
   "outputs": [],
   "source": [
    "def taken(n,tokens):\n",
    "    \"\"\"\n",
    "        Funcion para recuperar n elementos de un array no sc\n",
    "        Args:\n",
    "            n int:cantidad a recuperar\n",
    "            [tokens]:arreglo\n",
    "        Returs:\n",
    "            Str con n elementos del arreglo\n",
    "    \"\"\"\n",
    "    if len(tokens)>=n:\n",
    "        tokens=list(map(lambda x:str(x),tokens))\n",
    "        val=((\" \").join(tokens[0:n]))\n",
    "    else:\n",
    "        val=\"\"\n",
    "    return val\n",
    "def tails(tokens):\n",
    "    \"\"\"\n",
    "        Funcion para generar una lista con todas las colas posibles\n",
    "        Args:\n",
    "            [tokens]:arreglo\n",
    "        Returs:\n",
    "            [tokens]:arreglo con un elemento menos\n",
    "    \"\"\"\n",
    "    tailsss=[tokens]\n",
    "    for i in range(len(tokens)-1):\n",
    "        tailsss.append(tailsss[-1][1:])\n",
    "    return tailsss\n",
    "def nGrams(n,tokens):\n",
    "    \"\"\"\n",
    "        Funcion que genera ngrams de una secuencia de tokens\n",
    "        Args:\n",
    "            n int: cantidad de gramas\n",
    "            [str]:lista de tokens\n",
    "\n",
    "        Returns:\n",
    "            [str]: lista de tokens\n",
    "    \"\"\"\n",
    "    tokens=tokens.split()\n",
    "    tokens=tails(tokens)\n",
    "    Tok=list(map(lambda x:taken(n,x),tokens))\n",
    "    #elimino los vacios\n",
    "    Tok=list(filter(lambda x:len(x)>0,Tok))\n",
    "    return Tok"
   ]
  },
  {
   "cell_type": "code",
   "execution_count": 111,
   "id": "651c1f4e",
   "metadata": {},
   "outputs": [
    {
     "name": "stdout",
     "output_type": "stream",
     "text": [
      "Bigrama [['messi messi', 'messi messi', 'messi ronaldo', 'ronaldo ronaldo', 'ronaldo balon'], ['messi ronaldo', 'ronaldo futbol', 'futbol futbol', 'futbol futbol']]\n",
      "Trigramas [['messi messi messi', 'messi messi ronaldo', 'messi ronaldo ronaldo', 'ronaldo ronaldo balon'], ['messi ronaldo futbol', 'ronaldo futbol futbol', 'futbol futbol futbol']]\n",
      "Tetragramas [['messi messi messi ronaldo', 'messi messi ronaldo ronaldo', 'messi ronaldo ronaldo balon'], ['messi ronaldo futbol futbol', 'ronaldo futbol futbol futbol']]\n"
     ]
    }
   ],
   "source": [
    "Corpus=[\"messi messi messi ronaldo ronaldo balon\",\n",
    "          \"messi ronaldo futbol futbol futbol\"]\n",
    "CorpusP=sc.parallelize(Corpus,4)\n",
    "#Calculamos Bigramas\n",
    "Bigrama=CorpusP.map(lambda x:nGrams(2,x))\n",
    "print('Bigrama',Bigrama.collect())\n",
    "#Calculamos Trigramas\n",
    "Trigramas=CorpusP.map(lambda x:nGrams(3,x))\n",
    "print(\"Trigramas\",Trigramas.collect())\n",
    "#Calculamos Tetragramas\n",
    "Tetragramas=CorpusP.map(lambda x:nGrams(4,x))\n",
    "print(\"Tetragramas\",Tetragramas.collect())"
   ]
  }
 ],
 "metadata": {
  "kernelspec": {
   "display_name": "Python 3 (ipykernel)",
   "language": "python",
   "name": "python3"
  },
  "language_info": {
   "codemirror_mode": {
    "name": "ipython",
    "version": 3
   },
   "file_extension": ".py",
   "mimetype": "text/x-python",
   "name": "python",
   "nbconvert_exporter": "python",
   "pygments_lexer": "ipython3",
   "version": "3.8.10"
  }
 },
 "nbformat": 4,
 "nbformat_minor": 5
}
