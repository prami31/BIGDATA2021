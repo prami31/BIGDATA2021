{
 "cells": [
  {
   "cell_type": "markdown",
   "id": "8f5ddcca",
   "metadata": {},
   "source": [
    "### Modulo para obtener el mcm de una lista"
   ]
  },
  {
   "cell_type": "code",
   "execution_count": 1,
   "id": "8180524f",
   "metadata": {},
   "outputs": [],
   "source": [
    "mcm :: [Integer] -> Integer\n",
    "mcm [] = 0\n",
    "mcm [x] = x\n",
    "mcm [x,c] = lcm x c\n",
    "mcm (x : xC) = lcm x (mcm xC) \n"
   ]
  },
  {
   "cell_type": "code",
   "execution_count": 2,
   "id": "8789c36a",
   "metadata": {},
   "outputs": [
    {
     "data": {
      "text/plain": [
       "6"
      ]
     },
     "metadata": {},
     "output_type": "display_data"
    }
   ],
   "source": [
    "mcm [1,2,3]"
   ]
  },
  {
   "cell_type": "markdown",
   "id": "a1706433",
   "metadata": {},
   "source": [
    "### Hallamos la mediaDivN"
   ]
  },
  {
   "cell_type": "code",
   "execution_count": 5,
   "id": "210c2d78",
   "metadata": {},
   "outputs": [
    {
     "data": {
      "text/plain": [
       "5.0"
      ]
     },
     "metadata": {},
     "output_type": "display_data"
    }
   ],
   "source": [
    "mediaDivN :: Integer->Integer->Float\n",
    "mediaDivN d n = media\n",
    "    where\n",
    "        mcmLis=mcm[1..d]\n",
    "        media =  (fromIntegral  mcmLis *( fromIntegral n + 1.0)) / 2.0\n",
    "        \n",
    "mediaDivN 2 4"
   ]
  }
 ],
 "metadata": {
  "kernelspec": {
   "display_name": "Haskell",
   "language": "haskell",
   "name": "haskell"
  },
  "language_info": {
   "codemirror_mode": "ihaskell",
   "file_extension": ".hs",
   "mimetype": "text/x-haskell",
   "name": "haskell",
   "pygments_lexer": "Haskell",
   "version": "8.10.7"
  }
 },
 "nbformat": 4,
 "nbformat_minor": 5
}
